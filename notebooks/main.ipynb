{
 "cells": [
  {
   "cell_type": "markdown",
   "metadata": {},
   "source": [
    "# Links"
   ]
  },
  {
   "cell_type": "code",
   "execution_count": 27,
   "metadata": {},
   "outputs": [
    {
     "name": "stderr",
     "output_type": "stream",
     "text": [
      "100%|██████████| 20/20 [00:26<00:00,  1.31s/it]"
     ]
    },
    {
     "name": "stdout",
     "output_type": "stream",
     "text": [
      "Nome da Playlist: Itaú Views | 5ª Temporada\n"
     ]
    },
    {
     "name": "stderr",
     "output_type": "stream",
     "text": [
      "\n"
     ]
    },
    {
     "data": {
      "text/html": [
       "<div>\n",
       "<style scoped>\n",
       "    .dataframe tbody tr th:only-of-type {\n",
       "        vertical-align: middle;\n",
       "    }\n",
       "\n",
       "    .dataframe tbody tr th {\n",
       "        vertical-align: top;\n",
       "    }\n",
       "\n",
       "    .dataframe thead th {\n",
       "        text-align: right;\n",
       "    }\n",
       "</style>\n",
       "<table border=\"1\" class=\"dataframe\">\n",
       "  <thead>\n",
       "    <tr style=\"text-align: right;\">\n",
       "      <th></th>\n",
       "      <th>titulo</th>\n",
       "      <th>url</th>\n",
       "      <th>duração</th>\n",
       "      <th>visualizações</th>\n",
       "      <th>avaliação</th>\n",
       "      <th>autor</th>\n",
       "      <th>descrição</th>\n",
       "      <th>data_publicação</th>\n",
       "      <th>curtidas</th>\n",
       "      <th>keywords</th>\n",
       "      <th>número_curtidas</th>\n",
       "      <th>número_descurtidas</th>\n",
       "    </tr>\n",
       "  </thead>\n",
       "  <tbody>\n",
       "    <tr>\n",
       "      <th>0</th>\n",
       "      <td>Privatização da Sabesp: o que esperar pela fre...</td>\n",
       "      <td>https://youtube.com/watch?v=nlpEgrjDC-8</td>\n",
       "      <td>1941</td>\n",
       "      <td>356</td>\n",
       "      <td>None</td>\n",
       "      <td>Itaú Views | 5ª Temporada</td>\n",
       "      <td>None</td>\n",
       "      <td>2023-12-18</td>\n",
       "      <td>None</td>\n",
       "      <td>[]</td>\n",
       "      <td>None</td>\n",
       "      <td>None</td>\n",
       "    </tr>\n",
       "    <tr>\n",
       "      <th>1</th>\n",
       "      <td>Qual o melhor trade com renda fixa?</td>\n",
       "      <td>https://youtube.com/watch?v=8nxRcMYud8g</td>\n",
       "      <td>1769</td>\n",
       "      <td>621</td>\n",
       "      <td>None</td>\n",
       "      <td>Itaú Views | 5ª Temporada</td>\n",
       "      <td>None</td>\n",
       "      <td>2023-12-11</td>\n",
       "      <td>None</td>\n",
       "      <td>[]</td>\n",
       "      <td>None</td>\n",
       "      <td>None</td>\n",
       "    </tr>\n",
       "    <tr>\n",
       "      <th>2</th>\n",
       "      <td>Um raio-X da China</td>\n",
       "      <td>https://youtube.com/watch?v=Wp5mBfznTyk</td>\n",
       "      <td>1299</td>\n",
       "      <td>402</td>\n",
       "      <td>None</td>\n",
       "      <td>Itaú Views | 5ª Temporada</td>\n",
       "      <td>None</td>\n",
       "      <td>2023-12-04</td>\n",
       "      <td>None</td>\n",
       "      <td>[]</td>\n",
       "      <td>None</td>\n",
       "      <td>None</td>\n",
       "    </tr>\n",
       "    <tr>\n",
       "      <th>3</th>\n",
       "      <td>AI e a corrida da tecnologia</td>\n",
       "      <td>https://youtube.com/watch?v=Kr9z9GofAZw</td>\n",
       "      <td>2040</td>\n",
       "      <td>246</td>\n",
       "      <td>None</td>\n",
       "      <td>Itaú Views | 5ª Temporada</td>\n",
       "      <td>None</td>\n",
       "      <td>2023-11-27</td>\n",
       "      <td>None</td>\n",
       "      <td>[]</td>\n",
       "      <td>None</td>\n",
       "      <td>None</td>\n",
       "    </tr>\n",
       "    <tr>\n",
       "      <th>4</th>\n",
       "      <td>Ibovespa em 145 mil pontos</td>\n",
       "      <td>https://youtube.com/watch?v=bq5Q_Fjd8Ms</td>\n",
       "      <td>1653</td>\n",
       "      <td>617</td>\n",
       "      <td>None</td>\n",
       "      <td>Itaú Views | 5ª Temporada</td>\n",
       "      <td>None</td>\n",
       "      <td>2023-11-20</td>\n",
       "      <td>None</td>\n",
       "      <td>[]</td>\n",
       "      <td>None</td>\n",
       "      <td>None</td>\n",
       "    </tr>\n",
       "  </tbody>\n",
       "</table>\n",
       "</div>"
      ],
      "text/plain": [
       "                                              titulo  \\\n",
       "0  Privatização da Sabesp: o que esperar pela fre...   \n",
       "1                Qual o melhor trade com renda fixa?   \n",
       "2                                 Um raio-X da China   \n",
       "3                       AI e a corrida da tecnologia   \n",
       "4                         Ibovespa em 145 mil pontos   \n",
       "\n",
       "                                       url  duração  visualizações avaliação  \\\n",
       "0  https://youtube.com/watch?v=nlpEgrjDC-8     1941            356      None   \n",
       "1  https://youtube.com/watch?v=8nxRcMYud8g     1769            621      None   \n",
       "2  https://youtube.com/watch?v=Wp5mBfznTyk     1299            402      None   \n",
       "3  https://youtube.com/watch?v=Kr9z9GofAZw     2040            246      None   \n",
       "4  https://youtube.com/watch?v=bq5Q_Fjd8Ms     1653            617      None   \n",
       "\n",
       "                       autor descrição data_publicação curtidas keywords  \\\n",
       "0  Itaú Views | 5ª Temporada      None      2023-12-18     None       []   \n",
       "1  Itaú Views | 5ª Temporada      None      2023-12-11     None       []   \n",
       "2  Itaú Views | 5ª Temporada      None      2023-12-04     None       []   \n",
       "3  Itaú Views | 5ª Temporada      None      2023-11-27     None       []   \n",
       "4  Itaú Views | 5ª Temporada      None      2023-11-20     None       []   \n",
       "\n",
       "  número_curtidas número_descurtidas  \n",
       "0            None               None  \n",
       "1            None               None  \n",
       "2            None               None  \n",
       "3            None               None  \n",
       "4            None               None  "
      ]
     },
     "execution_count": 27,
     "metadata": {},
     "output_type": "execute_result"
    }
   ],
   "source": [
    "import pandas as pd\n",
    "import os\n",
    "from utils.youtube_extractor import extrair_links_playlist  # Ajuste conforme o caminho do seu módulo\n",
    "\n",
    "# URL da playlist do YouTube\n",
    "url_playlist = \"https://www.youtube.com/playlist?list=PLcwPvhFHJ_F83aRklVj8vc6f4zIZafMKn\"\n",
    "\n",
    "# Obter nome da playlist e informações dos vídeos\n",
    "nome_playlist, videos_info = extrair_links_playlist(url_playlist)\n",
    "\n",
    "# Converter a lista de dicionários em DataFrame\n",
    "videos_df = pd.DataFrame(videos_info)\n",
    "\n",
    "# Exibindo os resultados\n",
    "print(\"Nome da Playlist:\", nome_playlist)\n",
    "videos_df.head()"
   ]
  },
  {
   "cell_type": "code",
   "execution_count": 33,
   "metadata": {},
   "outputs": [],
   "source": [
    "# Salvar links\n",
    "videos_df.to_csv(os.path.join(\"../data/links/\",f\"links_{nome_playlist}.csv\"), index=False)"
   ]
  },
  {
   "cell_type": "markdown",
   "metadata": {},
   "source": [
    "# Video"
   ]
  },
  {
   "cell_type": "code",
   "execution_count": 2,
   "metadata": {},
   "outputs": [],
   "source": [
    "from langchain.document_loaders.blob_loaders.youtube_audio import YoutubeAudioLoader\n",
    "from langchain_community.document_loaders.generic import GenericLoader\n",
    "from langchain_community.document_loaders.parsers import (\n",
    "    OpenAIWhisperParser,\n",
    ")\n",
    "from langchain.document_loaders.parsers.audio import OpenAIWhisperParserLocal"
   ]
  },
  {
   "cell_type": "code",
   "execution_count": 3,
   "metadata": {},
   "outputs": [],
   "source": [
    "# set a flag to switch between local and remote parsing\n",
    "# change this to True if you want to use local parsing\n",
    "local = True"
   ]
  },
  {
   "cell_type": "code",
   "execution_count": 4,
   "metadata": {},
   "outputs": [],
   "source": [
    "import pandas as pd\n",
    "videos_df = pd.read_csv(\"../data/links/links_Itaú Views | 5ª Temporada.csv\")\n",
    "url_menor_video = videos_df[videos_df['duração'] == videos_df['duração'].min()].url.values[0]"
   ]
  },
  {
   "cell_type": "code",
   "execution_count": 5,
   "metadata": {},
   "outputs": [
    {
     "name": "stderr",
     "output_type": "stream",
     "text": [
      "/home/vicosbe/.local/lib/python3.11/site-packages/tqdm/auto.py:21: TqdmWarning: IProgress not found. Please update jupyter and ipywidgets. See https://ipywidgets.readthedocs.io/en/stable/user_install.html\n",
      "  from .autonotebook import tqdm as notebook_tqdm\n",
      "Special tokens have been added in the vocabulary, make sure the associated word embeddings are fine-tuned or trained.\n"
     ]
    },
    {
     "data": {
      "text/plain": [
       "[(1, 50267), (2, 50359), (3, 50363)]"
      ]
     },
     "execution_count": 5,
     "metadata": {},
     "output_type": "execute_result"
    }
   ],
   "source": [
    "from transformers import WhisperProcessor\n",
    "processor = WhisperProcessor.from_pretrained(\"openai/whisper-small\")\n",
    "processor.get_decoder_prompt_ids(language=\"portuguese\", task=\"transcribe\")"
   ]
  },
  {
   "cell_type": "code",
   "execution_count": 6,
   "metadata": {},
   "outputs": [
    {
     "name": "stdout",
     "output_type": "stream",
     "text": [
      "Using the following model:  openai/whisper-small\n"
     ]
    },
    {
     "name": "stderr",
     "output_type": "stream",
     "text": [
      "Special tokens have been added in the vocabulary, make sure the associated word embeddings are fine-tuned or trained.\n"
     ]
    },
    {
     "name": "stdout",
     "output_type": "stream",
     "text": [
      "[youtube] Extracting URL: https://youtube.com/watch?v=plW9ZiMFcOM\n",
      "[youtube] plW9ZiMFcOM: Downloading webpage\n",
      "[youtube] plW9ZiMFcOM: Downloading ios player API JSON\n",
      "[youtube] plW9ZiMFcOM: Downloading android player API JSON\n"
     ]
    },
    {
     "name": "stderr",
     "output_type": "stream",
     "text": [
      "WARNING: [youtube] Skipping player responses from android clients (got player responses for video \"aQvGIIdgFDM\" instead of \"plW9ZiMFcOM\")\n"
     ]
    },
    {
     "name": "stdout",
     "output_type": "stream",
     "text": [
      "[youtube] plW9ZiMFcOM: Downloading m3u8 information\n",
      "[info] plW9ZiMFcOM: Downloading 1 format(s): 140\n",
      "[download] ../data/videos//Balanço dos Balanços 2T23.m4a has already been downloaded\n",
      "[download] 100% of   28.54MiB\n",
      "[ExtractAudio] Not converting audio ../data/videos//Balanço dos Balanços 2T23.m4a; file is already in target format m4a\n",
      "Transcribing part ../data/videos/AI e a corrida da tecnologia.m4a!\n",
      "Transcribing part ../data/videos/Balanço dos Balanços 2T23.m4a!\n",
      "Transcribing part ../data/videos/Buy Side & Sell Side ｜ Agro, Aço, Mineração, Papel & Celulose.m4a!\n",
      "Transcribing part ../data/videos/Buy Side & Sell Side ｜ Fundos Imobiliários.m4a!\n",
      "Transcribing part ../data/videos/Buy Side & Sell Side ｜ Óleo & Gás.m4a!\n",
      "Transcribing part ../data/videos/Como investir em créditos privados.m4a!\n",
      "Transcribing part ../data/videos/El Niño： Impactos e Oportunidades para os investidores.m4a!\n",
      "Transcribing part ../data/videos/Especial Macro Vision： um olhar sobre a bolsa brasileira.m4a!\n",
      "Transcribing part ../data/videos/Ibovespa em 145 mil pontos.m4a!\n",
      "Transcribing part ../data/videos/Juros altos, volatilidade e para onde vai a bolsa.m4a!\n",
      "Transcribing part ../data/videos/Juros pra baixo, bolsa pra... baixo？.m4a!\n"
     ]
    },
    {
     "name": "stderr",
     "output_type": "stream",
     "text": [
      "/home/vicosbe/.local/lib/python3.11/site-packages/transformers/pipelines/base.py:1123: UserWarning: You seem to be using the pipelines sequentially on GPU. In order to maximize efficiency please use a dataset\n",
      "  warnings.warn(\n"
     ]
    },
    {
     "name": "stdout",
     "output_type": "stream",
     "text": [
      "Transcribing part ../data/videos/O que esperar da política monetária no Brasil？.m4a!\n"
     ]
    },
    {
     "name": "stderr",
     "output_type": "stream",
     "text": [
      "/home/vicosbe/.local/lib/python3.11/site-packages/transformers/pipelines/base.py:1123: UserWarning: You seem to be using the pipelines sequentially on GPU. In order to maximize efficiency please use a dataset\n",
      "  warnings.warn(\n"
     ]
    },
    {
     "name": "stdout",
     "output_type": "stream",
     "text": [
      "Transcribing part ../data/videos/Orange Book： um raio-x da nossa economia.m4a!\n"
     ]
    },
    {
     "name": "stderr",
     "output_type": "stream",
     "text": [
      "/home/vicosbe/.local/lib/python3.11/site-packages/transformers/pipelines/base.py:1123: UserWarning: You seem to be using the pipelines sequentially on GPU. In order to maximize efficiency please use a dataset\n",
      "  warnings.warn(\n"
     ]
    },
    {
     "name": "stdout",
     "output_type": "stream",
     "text": [
      "Transcribing part ../data/videos/Os IPOS vão voltar？.m4a!\n"
     ]
    },
    {
     "name": "stderr",
     "output_type": "stream",
     "text": [
      "/home/vicosbe/.local/lib/python3.11/site-packages/transformers/pipelines/base.py:1123: UserWarning: You seem to be using the pipelines sequentially on GPU. In order to maximize efficiency please use a dataset\n",
      "  warnings.warn(\n"
     ]
    },
    {
     "name": "stdout",
     "output_type": "stream",
     "text": [
      "Transcribing part ../data/videos/Privatização da Sabesp： o que esperar pela frente？.m4a!\n"
     ]
    },
    {
     "name": "stderr",
     "output_type": "stream",
     "text": [
      "/home/vicosbe/.local/lib/python3.11/site-packages/transformers/pipelines/base.py:1123: UserWarning: You seem to be using the pipelines sequentially on GPU. In order to maximize efficiency please use a dataset\n",
      "  warnings.warn(\n"
     ]
    },
    {
     "name": "stdout",
     "output_type": "stream",
     "text": [
      "Transcribing part ../data/videos/Qual o melhor trade com renda fixa？.m4a!\n"
     ]
    },
    {
     "name": "stderr",
     "output_type": "stream",
     "text": [
      "/home/vicosbe/.local/lib/python3.11/site-packages/transformers/pipelines/base.py:1123: UserWarning: You seem to be using the pipelines sequentially on GPU. In order to maximize efficiency please use a dataset\n",
      "  warnings.warn(\n"
     ]
    },
    {
     "name": "stdout",
     "output_type": "stream",
     "text": [
      "Transcribing part ../data/videos/Situações Especiais： entenda as oportunidades nessa classe de ativos.m4a!\n"
     ]
    },
    {
     "name": "stderr",
     "output_type": "stream",
     "text": [
      "/home/vicosbe/.local/lib/python3.11/site-packages/transformers/pipelines/base.py:1123: UserWarning: You seem to be using the pipelines sequentially on GPU. In order to maximize efficiency please use a dataset\n",
      "  warnings.warn(\n"
     ]
    },
    {
     "name": "stdout",
     "output_type": "stream",
     "text": [
      "Transcribing part ../data/videos/Tech Views ｜ Future Day & Report Atlantico.m4a!\n"
     ]
    },
    {
     "name": "stderr",
     "output_type": "stream",
     "text": [
      "/home/vicosbe/.local/lib/python3.11/site-packages/transformers/pipelines/base.py:1123: UserWarning: You seem to be using the pipelines sequentially on GPU. In order to maximize efficiency please use a dataset\n",
      "  warnings.warn(\n"
     ]
    },
    {
     "name": "stdout",
     "output_type": "stream",
     "text": [
      "Transcribing part ../data/videos/Tensões globais e os efeitos para o Brasil.m4a!\n"
     ]
    },
    {
     "name": "stderr",
     "output_type": "stream",
     "text": [
      "/home/vicosbe/.local/lib/python3.11/site-packages/transformers/pipelines/base.py:1123: UserWarning: You seem to be using the pipelines sequentially on GPU. In order to maximize efficiency please use a dataset\n",
      "  warnings.warn(\n"
     ]
    },
    {
     "name": "stdout",
     "output_type": "stream",
     "text": [
      "Transcribing part ../data/videos/Um raio-X da China.m4a!\n"
     ]
    },
    {
     "name": "stderr",
     "output_type": "stream",
     "text": [
      "/home/vicosbe/.local/lib/python3.11/site-packages/transformers/pipelines/base.py:1123: UserWarning: You seem to be using the pipelines sequentially on GPU. In order to maximize efficiency please use a dataset\n",
      "  warnings.warn(\n"
     ]
    }
   ],
   "source": [
    "# Two Karpathy lecture videos\n",
    "urls = videos_df.url.values.tolist() # ['https://youtube.com/watch?v=plW9ZiMFcOM']  #[url_menor_video]\n",
    "\n",
    "# Directory to save audio files\n",
    "save_dir = \"../data/videos/\"\n",
    "\n",
    "\n",
    "# Transcribe the videos to text\n",
    "if local:\n",
    "    loader = GenericLoader(\n",
    "        # exemplo \"../data/videos/Balanço dos Balanços 2T23.m4a!\" necessario passar a lingua por conta do erro: Multiple languages detected when trying to predict the most likely target language for transcription. It is currently not supported to transcribe to different languages in a single batch. Please make sure to either force a single language by passing `language='...'` or make sure all input audio is of the same language.\n",
    "        YoutubeAudioLoader(urls, save_dir), \n",
    "        \n",
    "        OpenAIWhisperParserLocal(chunk_length=20, # quando chunk=30, houve alguns bugs, palavras repetidas na transcrição\n",
    "                                                                     forced_decoder_ids=processor.get_decoder_prompt_ids(language=\"portuguese\", task=\"transcribe\")\n",
    "                                                                     )\n",
    "        \n",
    "    )\n",
    "else:\n",
    "    loader = GenericLoader(YoutubeAudioLoader(urls, save_dir), OpenAIWhisperParser())\n",
    "docs = loader.load()"
   ]
  },
  {
   "cell_type": "code",
   "execution_count": 12,
   "metadata": {},
   "outputs": [
    {
     "data": {
      "text/plain": [
       "Document(page_content=' Oi pessoal, aqui é Marcelo Serrâneo, esse é mais um episódio do podcast Talvius. Antes de começar, eu deixo convite pra você nos acompanhar também nas outras plataformas. A gente tem criado alguns conteúdos complementares no Instagram e a gente disponibiliza todos os relatórios aqui do research da nossa área de pesquisa macro no Telegram. Deixando mais um convite, as edições do podcast agora tão em vídeo tanto no youtube quanto no próprio Spotify onde a gente estreia hoje a edição desse podcast em vídeo bom o assunto de hoje é tecnologia a ideia a gente falar um pouco sobre as tendências de investimentos em tecnologia, falar sobre AI, que é o tema que domina um pouco esse assunto, a gente vai entender um pouco como os convidados aqui presentes têm olhado para a BigTex, quais são as top picks quando a gente olha para esses segmentos e entender se há espaço para mais valorização ainda desse setor comparativamente ao índice e ao mercado como um tudo. Então para colaborar com conversa, hoje a gente conta com as participações do Guilherme Amaral, que é analista na Quinea Investimentos e do Thiago Capusquis, que sempre aparece por aqui quando o assunto é tecnologia, que é o nosso analista tech aqui no research do itaú bba capulso que esguilharam e tudo bem bem vindos tudo bem Marcelo obrigado pelo convite e aí Marcelo tudo bom só alegria cara barra vir obrigado também pela convite. É bastante isso Marcelo, é Uma ótima pergunta, porque na realidade a resposta dessa pergunta que depende da empresa. Para algumas empresas a gente já vê as receitas de AI tomando aí 80% ou mais das receitas deste ano de 2023, que foi o grande ano do AI, né? Como você colocou, o AI dominou as conversas, a gente viu isso começando no final do ano passado com o chat PT, né? Todo mundo viu o aplicativo que chegou a 100 milhões de usuários mais rápido da história de todos os aplicativos. Então o AI dominou, é com total cenário de tecnologia esse ano. Falando do quanto que isso representa das empresas, para algumas empresas como NVIDIA é total, assim, mais de 80% das receitas da NVIDIA já vem de AI, ou seja, dos chips que eles vendem, das GPUs que eles vendem para os Datacentres, a gente com certeza vai abordar mais para frente. Para outras empresas, o que acontece é um pouco a expectativa desse mercado se tornar gigantesco. Então, muito ao longo desse ano foi ficando claro que nós estamos muito provavelmente vendo uma mudança de paradigma, mudança de plataforma que acontece possivelmente uma vez a cada décadas. Então, como a gente teve o computador lá atrás, computador pessoal, o PC lá atrás, a internet, o smartphone, agora nós estamos entrando na era da inteligência artificial. Então, em algumas empresas, como eu coloquei a NVIDIA totalmente, em outras empresas é a perspectiva futura, o mercado sempre opera olhando para frente, sempre pressifica olhando as oportunidades futuras. Então, em uma empresa, por exemplo, como a Microsoft, que é uma outra grande beneficiada e totalmente inserida nesse tema, na última resultado a empresa comunicou que aproximadamente 3 pontos percentuais de crescimento da divisão de cloud computing, a maior divisão da Microsoft, veio de inteligência artificial, de uma divisão que cresce ali só os 28%. Então, ainda não é a maioria, mas a perspectiva é que isso ganha relevância e que vá se tornando cada vez maior dentro da companhia. E para as outras Big Techs, aí a resposta é variada. Na meta foi muito mais uma história de corte de custos, esse ano. O Google teve também muito uma história de inteligência artificial esse ano, apesar da gente não saber exatamente a participação de receita lá dentro, mas também existe muita essa expectativa de que vá se tornar mais relevante. E a Apple tem sido um pouco mais distante, não tem falado muito desse assunto apesar de que com certeza eles estão pensando em fazer alguma coisa nesse mercado. Perfeito, outra coisa que tende a impactar a tecnologia capulscra, é a parte macro, tudo que a gente tem visto na economia americana, com a taxa de juros por lá, queria entender, isso impacta realmente bastante ou as questões micro, a dinâmica micro é forte o suficiente para se blindar um pouco eventualmente o que acontece no macro por lá. Essa pergunta é ótima também Serrano. Acho que assim enquanto você olha para o ano como um todo. E sendo fã do confuso, você teve SVB tendo essa crise que acho que atrapalhou bastante da dinâmica para alguns setores, um setor financeiro em especial sofreu bastante lá fora com isso. Você teve, agora infelizmente, conflito acontecendo no Oriente Médio, você teve esse spike, essa subida, no 10 anos, juros bastante forte, e você teve inteligência artificial dominando todas as conversas. E quando você olha por todo, mesmo tendo um ambiente tão difícil de maneira geral, tão incerto, as empresas de tecnologia se destacaram muito. É o que está carregando o índice, o S&P 500, o índice da Bolsa Americana, o índice principal da Bolsa Americana foram as empresas de tecnologia. Então isso dá a entender de que, é engraçado porque tem muita gente que errou o top down, né? Que num cenário onde você ainda tem juros mais altos etc você deveria ter as empresas de tecnologia sofrendo por conta do macro, mas não foi isso que aconteceu. Então, eu acho que a dinâmica micro, nesse especialmente inteligência artificial, ela foi importante durante o ano, ela vai continuar sendo importante olhando para frente, então isso traz uma perspectiva inclusive positiva para o setor, principalmente olhando para um prazo mais longo. Agora, a gente também está entrando numa fase eventualmente de recessão. Normalmente esses momentos do ponto de vista top down são momentos onde setores mais defensivos, onde você tem um crescimento mais independente da economia ou menos cíclico, esses setores tendem a ir bem. Então esse também é um outro lado que poderia favorecer tecnologia. Agora, como uma resposta em geral, eu acho que o que mais me anima para a tecnologia é o investimento de longo prazo, porque o que a gente estava vendo, estava no almoço hoje discutindo com o cliente, pois CNVIDIA entregar o que a gente consegue ver nos nossos modelos, é assim, como outras, vão abrir um gap ainda maior para o resto das empresas. As Big Techs já são 25% índice, são empresas de trilhão de dólar com uma distância grande para o resto. E aí talvez faça que essa distância ainda mais. Então, enfim, as perspectivas são bem interessantes aí. Bom, agora vamos falar um pouco sobre a temporada de balanços que está em andamento, vários nomes importantes já divulgaram então pelo material que a gente tem até o momento Guilherme, quais são os destaques que você colocaria com mais positivo ou negativo? Legal, legal Marcelo. Na última temporada de resultados a gente viu até uma certa diferença entre as Big Techs. Algumas reportaram bons resultados, diria até que um número maior reportaram bons resultados e algumas empresas reportaram os negativos. Então eu vou elencar aqui na minha visão quais foram os melhores do melhor para o pior. Na minha visão o Microsoft reportou o melhor resultado, isso porque versus o que eles tinham guiado de crescimento da métrica mais importante que é o crescimento do Azure, que é o caudocompure em deles, eles entregaram acima Então isso sempre é bom, quando a empresa dá um guidance, e ela vem e bate esse guidance, como a gente fala, isso sempre é bom, leva a revisões positivas e estimativas, consequentemente, a ação sobe. Então, essa, na minha opinião, foi um dos melhores resultados e colocando aqui em números eles tinham guiado para um crescimento do Azure de 26 a 27% em Consum Currency que se fala, neutralizando os efeitos de moeda e eles entregaram 28%. E o beat, o que veio acima justamente foi a parte de EI. Eles tinham dito anteriormente que a EI iria contribuir 2% desse crescimento, acabou contribuindo 3%. Então mostra como a gente estava falando anteriormente, existe toda essa expectativa de que a AI vai ser um grande mercado e vai impactar os números dessas empresas, sempre é bom quando você mostra isso acontecendo melhor até do que se imaginava. Então, foi um excelente resultado. Além disso, além da parte do Azure, eles também expandiram muito margin, mais ou menos 300 bits ano contra ano, muito acima do que o pessoal imaginava, mostrando ali um controle de custos de uma alavancaja operacional muito, muito positiva. Então, foi um resultado muito bom e a ação tem performado bem, está operando hoje a feriada nos Estados Unidos, mas está operando ali próximo dos all time highs. Então um excelente resultado ali da Microsoft. O segundo resultado da minha opinião foi a Amazon também. A Amazon é uma história um pouquinho diferente, porque a Amazon ela vem de um período de digestão de grandes investimentos em logística durante a pandemia que perpetuaram o crescimento durante a pandemia que não veio acontecer a gente viu o novo normal acabou sendo o velho normal as pessoas acabaram voltando para os escritórios etc então o crescimento do e-commerce não se perpetuou da maneira que a Amazon imaginava. Então ela vem nessa nessa iniciativa de corte de custos muito forte nos últimos trimestres e esse trimestre não foi diferente. Eles cortaram muito custos e reportaram um lucro muito positivo. Na verdade, a grande surpresa foi o lucro. A outra coisa também muito importante para a Amazon é a AWS, que é a divisão de cloud que é da onde vem a maior parte dos lucros, que vinha desacelerando e existia muito medo, muita preocupação de que ela estivesse perdendo o share ou de que ela acabasse não sendo uma cloud tão relevante com as mudanças de AI, que são mudanças grandes. Então, esse debate, eu acho que ainda não está totalmente definido, a gente não tem um ganhador ou um perdedor ainda desse lado, mas eles já conseguiram mostrar uma certa estabilização. Então só de ter parado de piorar já foi positivo, foi um resultado também muito bom, o Garnet também da companhia foi muito bom e toda a comunicação que o management deu no call com relação a AI, com relação a AWS e a corte de custos foi bastante positivo. Então a gente gostou bastante desse resultado também da Amazon. Em terceiro lugar eu colocaria a meta que também reportou um bom resultado, principalmente na questão que você vê que cada um tem um debate, mas na meta também era uma questão de corte de custos mas principalmente quanto que seria o custo que ela teria em 2024? Esse era o grande debate. Então as pessoas tinham preocupação de que eles aumentassem muito custos. A gente sabe que a meta está investindo no metaverso, eles estão gastando ali, a gente não sabe o certo, mas tendo um prejuízo por volta de 18 bilhões de dólares por ano no metaverso, algo que ainda não traz receita significativa, então existe muito medo de que esses investimentos, de que eles aumentassem esses investimentos em 2024 prejudicando as métricas de lucratividade da companhia. O que não aconteceu, o Marx e o Kerbergs mostrou muito mais prudente com o capital dos acionistas e deu um garanço de aumentar despesas ano que vem normalizando ali pelos extraordinários desse ano de por volta de 10, 11% que é bem razoável, não é nada diferente. O problema da meta foi que teve alguns comentários durante o call, durante o call de resultados, que acabaram assustando um pouco pessoal, principalmente com relação ao geopolítico, assim, foi bem no período de se reportar algumas semanas depois do conflito no Oriente Médio, e geralmente, historicamente, toda empresa de propaganda, de advertais, em como a meta, toda vez que existe um ruído geopolítico, como as pessoas começam a falar de algo negativo, quem faz propaganda na plataforma geralmente fica mais cauteloso, não gasta tanto porque você não quer sua marca associada a um conflito, isso é horroroso, ninguém quer que isso associada a sua marca. Então, geralmente, esses advertiders, quem paga pelas propagandas na meta, fica um pouco mais senticente e eles comentaram que eles viram isso afetando um pouco os resultados deles do trimestre, do 4Q. Então foi bom também, mas foi um pouco misto. E aí na parte mais negativa, a gente teve o Google, que teve um problema de margem, basicamente se esperava que eles fossem expandir margem muito mais e não expandiram, e muito disso por conta dos investimentos de inteligência artificial, que eles estão... existe também tudo uma questão de debate, mas existe uma forte percepção de que eles estão ficando pra trás na corrida de inteligência artificial e, portanto, eventualmente vão perder relevância no mercado para outros players como a Microsoft, seja com Bing ou seja com Copilot ou mesmo em Cloud. Então, teve-se a questão da margem também que eles estão precisando investir mais em inteligência artificial. O Cloud do Google também foi uma decepção, se esperava que o crescimento fosse muito melhor. E ali também no final a Apple também foi um resultado ruim. A Apple também se esperava que a Apple voltasse a crescer e eles guiaram para um crescimento estável ano contra ano. Com uma pequena expansão de margem, mas ali um crescimento estável também para uma empresa que negocia múltiplos altos, múltiplos comparáveis a dessas outras que a gente comentou que crescem, crescem acima de 10%, o IPS muito mais do que isso, que é o lucro por ação. A Apple realmente ficar ali estável não é muito bom. Então, eu colocaria dessa forma. Bacana. Bom resumo. Tem um case em especial que eu gostaria de aprofundar aqui com o Thiago, que a gente já falou em outras conversas e que não cansa de surpreender, que é Nvidia, né? A gente viu um lucro aí de mais de 1200% acima. A ação caiu depois dessa divulgação, o que surpreendeu muita gente também. Tudo que envolve a companhia e a tese é muito dinâmico, muito surpreendente dessa maneira. Eu queria perguntar como você estava vendo esse case hoje, Thiago? Tem potencial de valorização, não tem, a ação já esticou muito, como é que você vê? Então, NVIDIA realmente é uma, talvez é um pouco como um amaral que comentou né, é um caso a parte, talvez é uma grande estrela de toda a história de inteligência artificial. Mas acho que tem algumas coisas, dividir a resposta em partes. Acho que muita gente tem escutado, visto muito na imprensa, até tive na Bloomberg TV, na americana ontem, e um pouco da pergunta é, mas aí já foi né e aí já não consegue mais surpreender e assim acho que por um lado acho que a reação essa reação da queda dos 3% no dia seguinte bem um pouco porque realmente os números vieram em linha com essa expectativa, que era uma expectativa alta, então, diferentemente dos últimos dois, três trimestres, não teve essa grande surpresa, todo mundo já tinha colocado seus números para Então, eu acho que tem esse lado. O outro lado é que a gente aqui, inclusive, tem feito um trabalho ainda mais profundo nessa empresa em termos de research, até teve recentemente com eles, conversando com gente senior na NVIDIA, enquanto mais eu olho esse caso, mais a gente fica animado assim para o longo prazo, porque assim, primeiro porque você olha para uma empresa que está negociando, sendo até um pouco mais técnico, 25 vezes lucro 2025. Tem várias empresas que têm uma perspectiva muito pior do que NVIDIA, negociando nesses múltiplos ou mais altos, sendo que você tem uma companhia que tem 14 mil pessoas trabalhando em pesquisa e desenvolvimento, provavelmente 10 mil phds e está muito na frente na corrida da infraestrutura, mas é uma distância de fato grande. E a outra coisa interessante, apesar dos preços do GPU terem explodido para cima, que é justamente o principal fator de que a empresa está entregando, você vê a própria empresa falando, olha, eu estou a cada geração nova de chip e eu estou entregando duas a quatro vezes mais eficiência. Eu consigo cobrar muito mais caro do meu cliente e ainda assim o meu cliente sente que ele está reduzindo o custo no total, vis-a-vis a infraestrutura que ele está. Isso é fantástico assim, mas é ir por um outro lado, assusta, porque é uma certa transferência de renda, né? Você está falando o seguinte, que tem um cara que é tão bom num negócio que ele está fazendo, que todo mundo no mundo está querendo pagar mais para esse cara, que é um pouco da história da própria tecnologia, que hoje é o 25% do índice e a gente fica com a impressão de que pode ser mais com toda essa história. Então assim, mas quando a gente olha para as perspectivas, acha assim uma baita empresa, acho que a gente olha para o capital investido dessa empresa, retorno sobre o capital investido de mais de 100%, assim, nesse trimestre mais de 200%. A gente olha para frente, tem dificuldade de ver uma empresa entregando, assim, o pior caso que a gente está nos nossos números é se a empresa entregar 45% de retorno sobre o capital investindo nos próximos anos. Se ela entregar isso ela vai valer algumas vezes esse valor, o que também assusta, se fala que ela ela já vale um tri como é que ela vai valer cinco tri né vai valer dez trilhões né é meio maluco mas é mas quando a gente olha para o todo tem um dificuldade assim acho que a gente olha pot tem gente tentando fazer chip, tem, só que quem consegue trazer essa eficiência que ele está trazendo, porque ele tem o software, porque ele tem o PHD, porque ele faz isso há alguns anos, tem um monte de coisas que não são simples de serem replicadas. E tem um lado dele, um certo lado de sorte, de ele fazer um negócio que de repente ele se viu no meio do centro de uma evolução. É mais que isso ele é o único que sabe vender pá é o único que tem a pá e para vir o próximo cara para vender pá você tem que chamar o PHD para inventar pá Não é que eu pego um cara no meio da rua e vai inventar pá, então é, ou vai fazer a pá, então é meio maluco mesmo. Mas a gente segue positivo com a empresa, com o caso, a gente acha que inclusive qualquer queda aí mais significativa é uma oportunidade aí de compra. Perfeito, acho que um outro tema que dominou bastante o noticiário, que eu queria ouvir a opinião de vocês dois, é essas idas e vindas do Sun Altman lá na OpenAI, própria composição ali da companhia, como é que vocês estão vendo essa novela e o que significa para o mercado, o que isso nos faz projetar em termos de próximos passos aí de toda essa questão de inteligência artificial? Eu acho que eu vou começar com essa. Eu acho que essa pergunta é boa e eu acho que está todo mundo se fazendo essa pergunta. Eu acho que por um lado eu fico um pouco com a impressão de que a gente está vivendo um momento de inovação para a gente que acompanha a tecnologia no dia a dia. É uma velocidade absurda. O que a gente viu esse ano de mudança de inovação de coisas, de novidades é um negócio caramba assim, o que mal consegue acompanhar a coisa e é impressionante a capacidade dos modelos, é impressionante assim o que a gente consegue até tava com o Guilherme semanal passada a gente tava trocando um pouco de ideia de coisas que a gente consegue... Eu estava com o Guilherme semana passada, a gente estava trocando um pouco de ideia de coisas que a gente estava... Caramba, como é que pode fazer isso? Eu pode fazer aquilo e tal. E aí, eu acho que a gente não sabe o que aconteceu dentro da OpenAI. A OpenAI, o bordo da OpenAI, a principal responsabilidade se não for a única é na questão de segurança desacelerar um pouco o peso de inovação para que não se chegue a um problema. Por outro lado, a gente tem uma corrida que está todo mundo na mesma. Microsoft quer ser a mais rápida, Google quer ser mais rápida, Amazon Amazon quer ser mais rápido, todo mundo ali nesse negócio. Então, mais no final do dia eu acho que o status quo que é o que parece ser o cenário que vai ser, né? Assim eu falo parece porque de repente amanhã vem outra notícia de que mudou de novo. Mas isso é bom, porque primeiro, porque a gente mantém como está, o que eu acho que é, principalmente para o investidor de Microsoft, isso é muito bom, né? Coisa está funcionando, o Microsoft está sendo bem vista, isso está trazendo retorno para a empresa. Não precisa mudar o que está, não precisa trazer os caras para trabalhar na Microsoft, o jeito que está já está bom. E um outro lado da história é que eu acho que é assim, muito importante a preservação das questões de segurança, de governança e tudo. Eu acho que a minha impressão é que tanto a OPNAIAI da maneira que vinha sendo conduzido quanto a Microsoft, que por ter um comitê de governança e de segurança há anos, encaram essa questão de uma maneira muito responsável. Porque é um assunto difícil de você regular. Começa a regular. Não tem tantas pessoas que entendem o assunto no mundo. Mas no final do dia, apesar da mega novela, da mega volatilidade, eu na minha opinião a solução foi a melhor possível. O concordo que eu te algo nessa visão, dado tudo o que aconteceu realmente, o aparente final da história não parece ter se mantém o status quo que se tinha anteriormente. O Sanautman volta para o PNI e talvez até melhore até possível você tem mudanças de governança com o input maior da Microsoft para evitar isso. Essa aí até até algumas entrevistas do CEO da Microsoft, Satya Nadella, dizendo que eles não foram comunicados, que eles não ficaram muito apesar de serem os maiores investidores em uma parte da Opiniac, a parte for profit, que eles têm toda a estrutura, não profit, que controla profit, é uma estrutura bem incomum, na verdade não, não tem quase nenhuma empresa que eu conheço que tem uma estrutura dessa, mas ele não participou desse processo e como maior investidor é bastante estranho isso até. Ele foi informado quase que junto com com com nosso com com comunicado oficial então talvez isso leve até melhorias melhorias de governança da opinião certo mas mas é isso o fundo na realidade é que a gente não sabe o que aconteceu. O Board, o Conselho de Administração da OpenAI, não soube criar essa justificativa ou esses documentos que justificassem o porquê da demissão do Senal, mas tudo que a gente ouve são especulações. Poderia ter sido os investimentos que ele faz em paralela ao PNAI, que a gente sabe que ele tem outros investimentos e outros interesses comerciais ligados à inteligência artificial, mas que não ficam debaixo do guarda-chuva da PNAI. Tem essa questão que o Thiago colocou da... Hoje você tem, na verdade, no Vário do Surício, uma divisão entre dois grandes grupos, os que acham que a tecnologia tem que acelerar o máximo possível e que você tem que lançar os produtos e a tecnologia o quanto antes e o pessoal não se enganam, que não se enganam, que não se enganam, que não se enganam, que não se enganam, que não se enganam, que não se enganam, que não se enganam, que não se enganam, que não se enganam, que não se enganam, que não se enganam, que não se enganam, que não se enganam, que não se enganam, que não se enganam, que não se enganam, que não se enganam, que não se enganam, que não se enganam, que não se enganam, que não se enganam, que não se enganam, que não se enganam, que não se enganam, que não se enganam, que não se enganam, que não se enganam, que não se enganam, que não se enganam, que não se enganam, que não se enganam, que não se enganam, que não se enganam, que não se enganam, que não se enganam, que não se enganam, que não se enganam, que não se enganam, que não se enganam, que não se enganam, que não se enganam, que não se enganam, que não se enganam, que não se enganam, que não se enganam, que não se enganam, que não se enganam, que não se enganam, que não se enganam, que não se enganam, que não se enganam, que não se enganam, que não se enganam, que não se enganam, que não se enganam, que não se enganam, que não se enganam, que não se enganam, que não se enganam, que não teoria é isso, que o Sanautumann está mais na parte de lançar produto e desenvolver a tecnologia o mais rápido possível, enquanto existe esse outro grupo que talvez pregue uma divulgação, um lançamento de produtos mais espaçada com o tempo de termos as proteções necessárias. O fundo é que a gente não sabe e possivelmente não acabou aqui, mas vamos ver as cenas dos próximos capítulos. E falando em cenas dos próximos capítulos, Guilherme, se a gente pudesse projetar a primeira metade do ano que vem, e o que a gente teria como principais tendências, amadurecendo ainda mais ou surgindo nesse período e quais seriam os players que melhor capturariam essas tendências na sua opinião. Legal, é sempre difícil fazer previsões especialmente sobre o futuro né então mas vamos lá vou fazer o meu melhor, o como que eu estou vendo o cenário hoje, tá? Historicamente, toda vez que você teve uma mudança de tecnologia, principalmente, a gente viu isso com o cloud, a gente viu isso com o internet, com o smartphone, você tem certos ciclos. Então, a primeira tecnologia, a primeira, vamos dizer, a primeira parte de uma mudança de plataforma, você vê a infraestrutura se desenvolvendo e ganhando muito mercado. Seria o caso dos semiconductores, como foram os smartphones lá atrás. É, de fato, o aparelho que você precisa para fazer com que aquilo aconteça. No caso da inteligência artificial, claramente foi a Nvidia, que foi a grande vencedora esse ano. Nós vemos aí o crescimento da infraestrutura dos data centers da Nvidia voltados para a AI., um segundo passo, você começa a ter a criação de serviços em cima disso. Você começa a ver, de fato, as pessoas criando aplicações. Então, a gente sai da camada da infraestrutura e começa a passar na camada das aplicações, que são as pessoas, os desenvolvedores e as empresas. a soluções úteis para todo mundo que todo mundo consumidores as empresas adoram e aí o negócio explode e aí a gente vê todas as evoluções que a gente viu nos últimos tempos. Então fazendo um paralelo aqui, primeiro a Apple vendeu muitos smartphones e depois a gente viu os aplicativos que todo mundo usa sendo criados, seja um Instagram, seja Uber, empresas de muitos bilhões de dólares de receita e valor de mercado. Isso é um ciclo que aconteceu historicamente, sempre acontece, a infraestrutura depois da aplicação. Então, o que eu vejo no ano que vem vai ser o ano das aplicações de inteligência artificial. Em 2023 foi ano da infraestrutura, em 2024 a gente vai ver as aplicações mesmo entrando em produção e ganhando adoção. E falando especificadamente de algumas, o copiloto da microsoft que estão que tá sendo testado aí por várias empresas agora na realidade está disponível para todo mundo começou em novembro né começou no começo desse mês então tá super recente a gente acha que o que o copiloto vai ter uma doção muito grande a gente gente aposta bastante nisso, então o Microsoft acho que é um excelente nome e além do copiloto ela também se beneficia na parte de cloud já que as empresas que querem ter seus modelos proprietários usam a infraestrutura que você tem no cloud da Microsoft. Você tem, em produção, a gente provavelmente em outras empresas de software a gente deve ver isso. Um outro setor que eu estou bastante de olho é Cyber Segurança, porque ao mesmo tempo que você utiliza essas ferramentas para o bem, para aplicações como o copilot, elas também podem ser usadas para o mal, para os ataques cibernéticos. Então, e cyber segurança é um mercado que a gente agora está vendo nas primeiras aplicações. A própria Microsoft tem um copilot para segurança, a Paulo Alto, que é uma grande empresa de cyber segurança, também muito interessante estar cada vez colocando mais isso, a CrowdStrike também, uma outra empresa, também tem o seu assistente ali de cyber segurança. Então, eu acho que a gente vai perceber que vai ser necessário mais um ciclo de investimento em cyber segurança para você justamente conseguir proteger esses modelos e proteger do mau uso, né? Porque como a gente está falando, se esses modelos de fato são tão poderosos como você acredita, a gente precisa protegê-los bem. Muito bom. Eu descobriu bastante coisa aqui, mas para fechar, deixando aquele qual que a gente sempre deixa, Thiago, quais desses nomes que a gente comentou ao longo de toda a conversa seriam as suas top picks aí no universo de tecnologia? Legal, a gente é tudo muito dinâmico, mas a gente segue bastante positivo com o Amazon, é a nossa top pick aqui da nossa cobertura oficial, né hardcovered, que são aí as Magnificent 7, todas menos Tesla a gente cobre. E a Amazon é a nossa top pick, acho que a empresa que está aí com até o Amaral comentou é uma empresa que está entregando muito lá de custos, acho que está ainda no início, acho que tem mais dois trimestres ou mais de entregas importantes em margens. É uma melhoria na toda a eficiência logística da companhia bastante clara com a mudança de modelo para a regionalização, acho que tem espaço ainda para melhoria de eficiência de estoques e entre outras coisas que trazem ainda mais oportunidades de melhora desses números. Acho que na questão de nuvem bem importante, esse último resultado é um resultado que trouxe uma impressão de que tem mais chance do pior ter ficado para trás em termos de desacelerações, que é algo que a AWS no vem da Amazon vem desacelerando desde o 4.21. Então essa aceleração é bem importante até para a própria recomposição de margens da empresa. Então a gente segue positivo, a gente vê um upside bastante grande para Amazon para o ano que vem. E tem outros papéis que a gente segue gostando, a gente gosta ainda de meta, apesar de tudo que subiu, a gente virou a mão para compra nos abaixo 100 dólares, para estar a 340, isso tem 1 ano, mas a gente segue ainda positivo, acho que ainda tem mais uma pernada de revisões para cima, a gente está vendo um benefício também importante dos players chineses de commerce que estão anunciando bastante dentro da meta. Isso também está sendo um driver dos resultados. A própria Microsoft não é uma empresa barata, mas no longo prazo a gente gosta bastante. E a gente comentou o dia em vídeo. Esses quatro são os papéis que a gente gosta. Eu diria que se tivesse que escolher um aí com a arma na cabeça aqui, qualquer o papel que você escolheria, acho que a Amazon seria o nosso principal cavalo aí, já até falando de 2024, já estamos perto já o principal cavalo aí pro ano que vem. É uma bacana que apesar de toda essa discussão e esse vanguardismo de Nvidia em relação ao tema principal em tecnologia, se aposta na Amazon como cavalo, o principal. Acho que isso pensando muito nos próximos 12 meses Serrano. Assim acho que longo prazo o Microsoft e Nvidia são excelentes excelentes empresas excelentes empresas e vão e eu acho que é um pouco a cabeça da gente aqui é que são empresas que se tiverem fraqueza por qualquer motivo caiu a Microsoft porque de novo deu um embrol com o PNA. Provavelmente vai ser uma oportunidade de comprar mais no papel do que você vender a sua posição. Isso, mas assim olhando para próximos 12 meses, onde a gente, né, na nossa profissão aqui, principalmente do seu site, a gente acaba tendo que esse mandato de olhar aí 12 meses, acho que aqui tem um upside mais claro para a gente, é, dessas nesse período da Amazon? Perfeito, acho que a gente conseguiu cumprir bem a pauta, queria novamente agradecer o Tiago e o Guilherme por essa participação, por essa aula aqui. Valeu! e', metadata={'source': '../data/videos/AI e a corrida da tecnologia.m4a'})"
      ]
     },
     "execution_count": 12,
     "metadata": {},
     "output_type": "execute_result"
    }
   ],
   "source": [
    "docs[0]"
   ]
  },
  {
   "cell_type": "code",
   "execution_count": 5,
   "metadata": {},
   "outputs": [],
   "source": [
    "from utils.document_manager import save_docs_to_csv, load_docs_from_csv\n",
    "# Exemplo de uso das funções\n",
    "csv_file_path = '../data/transcripts/transcripts.csv'"
   ]
  },
  {
   "cell_type": "code",
   "execution_count": 14,
   "metadata": {},
   "outputs": [],
   "source": [
    "# Supondo que 'docs' é a lista de documentos que você deseja salvar\n",
    "save_docs_to_csv(docs, csv_file_path)\n"
   ]
  },
  {
   "cell_type": "code",
   "execution_count": 8,
   "metadata": {},
   "outputs": [
    {
     "name": "stdout",
     "output_type": "stream",
     "text": [
      "Documentos carregados de ../data/transcripts/transcripts.csv\n"
     ]
    },
    {
     "data": {
      "text/plain": [
       "Document(page_content=' Oi pessoal, aqui é Marcelo Serrâneo, esse é mais um episódio do podcast Talvius. Antes de começar, eu deixo convite pra você nos acompanhar também nas outras plataformas. A gente tem criado alguns conteúdos complementares no Instagram e a gente disponibiliza todos os relatórios aqui do research da nossa área de pesquisa macro no Telegram. Deixando mais um convite, as edições do podcast agora tão em vídeo tanto no youtube quanto no próprio Spotify onde a gente estreia hoje a edição desse podcast em vídeo bom o assunto de hoje é tecnologia a ideia a gente falar um pouco sobre as tendências de investimentos em tecnologia, falar sobre AI, que é o tema que domina um pouco esse assunto, a gente vai entender um pouco como os convidados aqui presentes têm olhado para a BigTex, quais são as top picks quando a gente olha para esses segmentos e entender se há espaço para mais valorização ainda desse setor comparativamente ao índice e ao mercado como um tudo. Então para colaborar com conversa, hoje a gente conta com as participações do Guilherme Amaral, que é analista na Quinea Investimentos e do Thiago Capusquis, que sempre aparece por aqui quando o assunto é tecnologia, que é o nosso analista tech aqui no research do itaú bba capulso que esguilharam e tudo bem bem vindos tudo bem Marcelo obrigado pelo convite e aí Marcelo tudo bom só alegria cara barra vir obrigado também pela convite. É bastante isso Marcelo, é Uma ótima pergunta, porque na realidade a resposta dessa pergunta que depende da empresa. Para algumas empresas a gente já vê as receitas de AI tomando aí 80% ou mais das receitas deste ano de 2023, que foi o grande ano do AI, né? Como você colocou, o AI dominou as conversas, a gente viu isso começando no final do ano passado com o chat PT, né? Todo mundo viu o aplicativo que chegou a 100 milhões de usuários mais rápido da história de todos os aplicativos. Então o AI dominou, é com total cenário de tecnologia esse ano. Falando do quanto que isso representa das empresas, para algumas empresas como NVIDIA é total, assim, mais de 80% das receitas da NVIDIA já vem de AI, ou seja, dos chips que eles vendem, das GPUs que eles vendem para os Datacentres, a gente com certeza vai abordar mais para frente. Para outras empresas, o que acontece é um pouco a expectativa desse mercado se tornar gigantesco. Então, muito ao longo desse ano foi ficando claro que nós estamos muito provavelmente vendo uma mudança de paradigma, mudança de plataforma que acontece possivelmente uma vez a cada décadas. Então, como a gente teve o computador lá atrás, computador pessoal, o PC lá atrás, a internet, o smartphone, agora nós estamos entrando na era da inteligência artificial. Então, em algumas empresas, como eu coloquei a NVIDIA totalmente, em outras empresas é a perspectiva futura, o mercado sempre opera olhando para frente, sempre pressifica olhando as oportunidades futuras. Então, em uma empresa, por exemplo, como a Microsoft, que é uma outra grande beneficiada e totalmente inserida nesse tema, na última resultado a empresa comunicou que aproximadamente 3 pontos percentuais de crescimento da divisão de cloud computing, a maior divisão da Microsoft, veio de inteligência artificial, de uma divisão que cresce ali só os 28%. Então, ainda não é a maioria, mas a perspectiva é que isso ganha relevância e que vá se tornando cada vez maior dentro da companhia. E para as outras Big Techs, aí a resposta é variada. Na meta foi muito mais uma história de corte de custos, esse ano. O Google teve também muito uma história de inteligência artificial esse ano, apesar da gente não saber exatamente a participação de receita lá dentro, mas também existe muita essa expectativa de que vá se tornar mais relevante. E a Apple tem sido um pouco mais distante, não tem falado muito desse assunto apesar de que com certeza eles estão pensando em fazer alguma coisa nesse mercado. Perfeito, outra coisa que tende a impactar a tecnologia capulscra, é a parte macro, tudo que a gente tem visto na economia americana, com a taxa de juros por lá, queria entender, isso impacta realmente bastante ou as questões micro, a dinâmica micro é forte o suficiente para se blindar um pouco eventualmente o que acontece no macro por lá. Essa pergunta é ótima também Serrano. Acho que assim enquanto você olha para o ano como um todo. E sendo fã do confuso, você teve SVB tendo essa crise que acho que atrapalhou bastante da dinâmica para alguns setores, um setor financeiro em especial sofreu bastante lá fora com isso. Você teve, agora infelizmente, conflito acontecendo no Oriente Médio, você teve esse spike, essa subida, no 10 anos, juros bastante forte, e você teve inteligência artificial dominando todas as conversas. E quando você olha por todo, mesmo tendo um ambiente tão difícil de maneira geral, tão incerto, as empresas de tecnologia se destacaram muito. É o que está carregando o índice, o S&P 500, o índice da Bolsa Americana, o índice principal da Bolsa Americana foram as empresas de tecnologia. Então isso dá a entender de que, é engraçado porque tem muita gente que errou o top down, né? Que num cenário onde você ainda tem juros mais altos etc você deveria ter as empresas de tecnologia sofrendo por conta do macro, mas não foi isso que aconteceu. Então, eu acho que a dinâmica micro, nesse especialmente inteligência artificial, ela foi importante durante o ano, ela vai continuar sendo importante olhando para frente, então isso traz uma perspectiva inclusive positiva para o setor, principalmente olhando para um prazo mais longo. Agora, a gente também está entrando numa fase eventualmente de recessão. Normalmente esses momentos do ponto de vista top down são momentos onde setores mais defensivos, onde você tem um crescimento mais independente da economia ou menos cíclico, esses setores tendem a ir bem. Então esse também é um outro lado que poderia favorecer tecnologia. Agora, como uma resposta em geral, eu acho que o que mais me anima para a tecnologia é o investimento de longo prazo, porque o que a gente estava vendo, estava no almoço hoje discutindo com o cliente, pois CNVIDIA entregar o que a gente consegue ver nos nossos modelos, é assim, como outras, vão abrir um gap ainda maior para o resto das empresas. As Big Techs já são 25% índice, são empresas de trilhão de dólar com uma distância grande para o resto. E aí talvez faça que essa distância ainda mais. Então, enfim, as perspectivas são bem interessantes aí. Bom, agora vamos falar um pouco sobre a temporada de balanços que está em andamento, vários nomes importantes já divulgaram então pelo material que a gente tem até o momento Guilherme, quais são os destaques que você colocaria com mais positivo ou negativo? Legal, legal Marcelo. Na última temporada de resultados a gente viu até uma certa diferença entre as Big Techs. Algumas reportaram bons resultados, diria até que um número maior reportaram bons resultados e algumas empresas reportaram os negativos. Então eu vou elencar aqui na minha visão quais foram os melhores do melhor para o pior. Na minha visão o Microsoft reportou o melhor resultado, isso porque versus o que eles tinham guiado de crescimento da métrica mais importante que é o crescimento do Azure, que é o caudocompure em deles, eles entregaram acima Então isso sempre é bom, quando a empresa dá um guidance, e ela vem e bate esse guidance, como a gente fala, isso sempre é bom, leva a revisões positivas e estimativas, consequentemente, a ação sobe. Então, essa, na minha opinião, foi um dos melhores resultados e colocando aqui em números eles tinham guiado para um crescimento do Azure de 26 a 27% em Consum Currency que se fala, neutralizando os efeitos de moeda e eles entregaram 28%. E o beat, o que veio acima justamente foi a parte de EI. Eles tinham dito anteriormente que a EI iria contribuir 2% desse crescimento, acabou contribuindo 3%. Então mostra como a gente estava falando anteriormente, existe toda essa expectativa de que a AI vai ser um grande mercado e vai impactar os números dessas empresas, sempre é bom quando você mostra isso acontecendo melhor até do que se imaginava. Então, foi um excelente resultado. Além disso, além da parte do Azure, eles também expandiram muito margin, mais ou menos 300 bits ano contra ano, muito acima do que o pessoal imaginava, mostrando ali um controle de custos de uma alavancaja operacional muito, muito positiva. Então, foi um resultado muito bom e a ação tem performado bem, está operando hoje a feriada nos Estados Unidos, mas está operando ali próximo dos all time highs. Então um excelente resultado ali da Microsoft. O segundo resultado da minha opinião foi a Amazon também. A Amazon é uma história um pouquinho diferente, porque a Amazon ela vem de um período de digestão de grandes investimentos em logística durante a pandemia que perpetuaram o crescimento durante a pandemia que não veio acontecer a gente viu o novo normal acabou sendo o velho normal as pessoas acabaram voltando para os escritórios etc então o crescimento do e-commerce não se perpetuou da maneira que a Amazon imaginava. Então ela vem nessa nessa iniciativa de corte de custos muito forte nos últimos trimestres e esse trimestre não foi diferente. Eles cortaram muito custos e reportaram um lucro muito positivo. Na verdade, a grande surpresa foi o lucro. A outra coisa também muito importante para a Amazon é a AWS, que é a divisão de cloud que é da onde vem a maior parte dos lucros, que vinha desacelerando e existia muito medo, muita preocupação de que ela estivesse perdendo o share ou de que ela acabasse não sendo uma cloud tão relevante com as mudanças de AI, que são mudanças grandes. Então, esse debate, eu acho que ainda não está totalmente definido, a gente não tem um ganhador ou um perdedor ainda desse lado, mas eles já conseguiram mostrar uma certa estabilização. Então só de ter parado de piorar já foi positivo, foi um resultado também muito bom, o Garnet também da companhia foi muito bom e toda a comunicação que o management deu no call com relação a AI, com relação a AWS e a corte de custos foi bastante positivo. Então a gente gostou bastante desse resultado também da Amazon. Em terceiro lugar eu colocaria a meta que também reportou um bom resultado, principalmente na questão que você vê que cada um tem um debate, mas na meta também era uma questão de corte de custos mas principalmente quanto que seria o custo que ela teria em 2024? Esse era o grande debate. Então as pessoas tinham preocupação de que eles aumentassem muito custos. A gente sabe que a meta está investindo no metaverso, eles estão gastando ali, a gente não sabe o certo, mas tendo um prejuízo por volta de 18 bilhões de dólares por ano no metaverso, algo que ainda não traz receita significativa, então existe muito medo de que esses investimentos, de que eles aumentassem esses investimentos em 2024 prejudicando as métricas de lucratividade da companhia. O que não aconteceu, o Marx e o Kerbergs mostrou muito mais prudente com o capital dos acionistas e deu um garanço de aumentar despesas ano que vem normalizando ali pelos extraordinários desse ano de por volta de 10, 11% que é bem razoável, não é nada diferente. O problema da meta foi que teve alguns comentários durante o call, durante o call de resultados, que acabaram assustando um pouco pessoal, principalmente com relação ao geopolítico, assim, foi bem no período de se reportar algumas semanas depois do conflito no Oriente Médio, e geralmente, historicamente, toda empresa de propaganda, de advertais, em como a meta, toda vez que existe um ruído geopolítico, como as pessoas começam a falar de algo negativo, quem faz propaganda na plataforma geralmente fica mais cauteloso, não gasta tanto porque você não quer sua marca associada a um conflito, isso é horroroso, ninguém quer que isso associada a sua marca. Então, geralmente, esses advertiders, quem paga pelas propagandas na meta, fica um pouco mais senticente e eles comentaram que eles viram isso afetando um pouco os resultados deles do trimestre, do 4Q. Então foi bom também, mas foi um pouco misto. E aí na parte mais negativa, a gente teve o Google, que teve um problema de margem, basicamente se esperava que eles fossem expandir margem muito mais e não expandiram, e muito disso por conta dos investimentos de inteligência artificial, que eles estão... existe também tudo uma questão de debate, mas existe uma forte percepção de que eles estão ficando pra trás na corrida de inteligência artificial e, portanto, eventualmente vão perder relevância no mercado para outros players como a Microsoft, seja com Bing ou seja com Copilot ou mesmo em Cloud. Então, teve-se a questão da margem também que eles estão precisando investir mais em inteligência artificial. O Cloud do Google também foi uma decepção, se esperava que o crescimento fosse muito melhor. E ali também no final a Apple também foi um resultado ruim. A Apple também se esperava que a Apple voltasse a crescer e eles guiaram para um crescimento estável ano contra ano. Com uma pequena expansão de margem, mas ali um crescimento estável também para uma empresa que negocia múltiplos altos, múltiplos comparáveis a dessas outras que a gente comentou que crescem, crescem acima de 10%, o IPS muito mais do que isso, que é o lucro por ação. A Apple realmente ficar ali estável não é muito bom. Então, eu colocaria dessa forma. Bacana. Bom resumo. Tem um case em especial que eu gostaria de aprofundar aqui com o Thiago, que a gente já falou em outras conversas e que não cansa de surpreender, que é Nvidia, né? A gente viu um lucro aí de mais de 1200% acima. A ação caiu depois dessa divulgação, o que surpreendeu muita gente também. Tudo que envolve a companhia e a tese é muito dinâmico, muito surpreendente dessa maneira. Eu queria perguntar como você estava vendo esse case hoje, Thiago? Tem potencial de valorização, não tem, a ação já esticou muito, como é que você vê? Então, NVIDIA realmente é uma, talvez é um pouco como um amaral que comentou né, é um caso a parte, talvez é uma grande estrela de toda a história de inteligência artificial. Mas acho que tem algumas coisas, dividir a resposta em partes. Acho que muita gente tem escutado, visto muito na imprensa, até tive na Bloomberg TV, na americana ontem, e um pouco da pergunta é, mas aí já foi né e aí já não consegue mais surpreender e assim acho que por um lado acho que a reação essa reação da queda dos 3% no dia seguinte bem um pouco porque realmente os números vieram em linha com essa expectativa, que era uma expectativa alta, então, diferentemente dos últimos dois, três trimestres, não teve essa grande surpresa, todo mundo já tinha colocado seus números para Então, eu acho que tem esse lado. O outro lado é que a gente aqui, inclusive, tem feito um trabalho ainda mais profundo nessa empresa em termos de research, até teve recentemente com eles, conversando com gente senior na NVIDIA, enquanto mais eu olho esse caso, mais a gente fica animado assim para o longo prazo, porque assim, primeiro porque você olha para uma empresa que está negociando, sendo até um pouco mais técnico, 25 vezes lucro 2025. Tem várias empresas que têm uma perspectiva muito pior do que NVIDIA, negociando nesses múltiplos ou mais altos, sendo que você tem uma companhia que tem 14 mil pessoas trabalhando em pesquisa e desenvolvimento, provavelmente 10 mil phds e está muito na frente na corrida da infraestrutura, mas é uma distância de fato grande. E a outra coisa interessante, apesar dos preços do GPU terem explodido para cima, que é justamente o principal fator de que a empresa está entregando, você vê a própria empresa falando, olha, eu estou a cada geração nova de chip e eu estou entregando duas a quatro vezes mais eficiência. Eu consigo cobrar muito mais caro do meu cliente e ainda assim o meu cliente sente que ele está reduzindo o custo no total, vis-a-vis a infraestrutura que ele está. Isso é fantástico assim, mas é ir por um outro lado, assusta, porque é uma certa transferência de renda, né? Você está falando o seguinte, que tem um cara que é tão bom num negócio que ele está fazendo, que todo mundo no mundo está querendo pagar mais para esse cara, que é um pouco da história da própria tecnologia, que hoje é o 25% do índice e a gente fica com a impressão de que pode ser mais com toda essa história. Então assim, mas quando a gente olha para as perspectivas, acha assim uma baita empresa, acho que a gente olha para o capital investido dessa empresa, retorno sobre o capital investido de mais de 100%, assim, nesse trimestre mais de 200%. A gente olha para frente, tem dificuldade de ver uma empresa entregando, assim, o pior caso que a gente está nos nossos números é se a empresa entregar 45% de retorno sobre o capital investindo nos próximos anos. Se ela entregar isso ela vai valer algumas vezes esse valor, o que também assusta, se fala que ela ela já vale um tri como é que ela vai valer cinco tri né vai valer dez trilhões né é meio maluco mas é mas quando a gente olha para o todo tem um dificuldade assim acho que a gente olha pot tem gente tentando fazer chip, tem, só que quem consegue trazer essa eficiência que ele está trazendo, porque ele tem o software, porque ele tem o PHD, porque ele faz isso há alguns anos, tem um monte de coisas que não são simples de serem replicadas. E tem um lado dele, um certo lado de sorte, de ele fazer um negócio que de repente ele se viu no meio do centro de uma evolução. É mais que isso ele é o único que sabe vender pá é o único que tem a pá e para vir o próximo cara para vender pá você tem que chamar o PHD para inventar pá Não é que eu pego um cara no meio da rua e vai inventar pá, então é, ou vai fazer a pá, então é meio maluco mesmo. Mas a gente segue positivo com a empresa, com o caso, a gente acha que inclusive qualquer queda aí mais significativa é uma oportunidade aí de compra. Perfeito, acho que um outro tema que dominou bastante o noticiário, que eu queria ouvir a opinião de vocês dois, é essas idas e vindas do Sun Altman lá na OpenAI, própria composição ali da companhia, como é que vocês estão vendo essa novela e o que significa para o mercado, o que isso nos faz projetar em termos de próximos passos aí de toda essa questão de inteligência artificial? Eu acho que eu vou começar com essa. Eu acho que essa pergunta é boa e eu acho que está todo mundo se fazendo essa pergunta. Eu acho que por um lado eu fico um pouco com a impressão de que a gente está vivendo um momento de inovação para a gente que acompanha a tecnologia no dia a dia. É uma velocidade absurda. O que a gente viu esse ano de mudança de inovação de coisas, de novidades é um negócio caramba assim, o que mal consegue acompanhar a coisa e é impressionante a capacidade dos modelos, é impressionante assim o que a gente consegue até tava com o Guilherme semanal passada a gente tava trocando um pouco de ideia de coisas que a gente consegue... Eu estava com o Guilherme semana passada, a gente estava trocando um pouco de ideia de coisas que a gente estava... Caramba, como é que pode fazer isso? Eu pode fazer aquilo e tal. E aí, eu acho que a gente não sabe o que aconteceu dentro da OpenAI. A OpenAI, o bordo da OpenAI, a principal responsabilidade se não for a única é na questão de segurança desacelerar um pouco o peso de inovação para que não se chegue a um problema. Por outro lado, a gente tem uma corrida que está todo mundo na mesma. Microsoft quer ser a mais rápida, Google quer ser mais rápida, Amazon Amazon quer ser mais rápido, todo mundo ali nesse negócio. Então, mais no final do dia eu acho que o status quo que é o que parece ser o cenário que vai ser, né? Assim eu falo parece porque de repente amanhã vem outra notícia de que mudou de novo. Mas isso é bom, porque primeiro, porque a gente mantém como está, o que eu acho que é, principalmente para o investidor de Microsoft, isso é muito bom, né? Coisa está funcionando, o Microsoft está sendo bem vista, isso está trazendo retorno para a empresa. Não precisa mudar o que está, não precisa trazer os caras para trabalhar na Microsoft, o jeito que está já está bom. E um outro lado da história é que eu acho que é assim, muito importante a preservação das questões de segurança, de governança e tudo. Eu acho que a minha impressão é que tanto a OPNAIAI da maneira que vinha sendo conduzido quanto a Microsoft, que por ter um comitê de governança e de segurança há anos, encaram essa questão de uma maneira muito responsável. Porque é um assunto difícil de você regular. Começa a regular. Não tem tantas pessoas que entendem o assunto no mundo. Mas no final do dia, apesar da mega novela, da mega volatilidade, eu na minha opinião a solução foi a melhor possível. O concordo que eu te algo nessa visão, dado tudo o que aconteceu realmente, o aparente final da história não parece ter se mantém o status quo que se tinha anteriormente. O Sanautman volta para o PNI e talvez até melhore até possível você tem mudanças de governança com o input maior da Microsoft para evitar isso. Essa aí até até algumas entrevistas do CEO da Microsoft, Satya Nadella, dizendo que eles não foram comunicados, que eles não ficaram muito apesar de serem os maiores investidores em uma parte da Opiniac, a parte for profit, que eles têm toda a estrutura, não profit, que controla profit, é uma estrutura bem incomum, na verdade não, não tem quase nenhuma empresa que eu conheço que tem uma estrutura dessa, mas ele não participou desse processo e como maior investidor é bastante estranho isso até. Ele foi informado quase que junto com com com nosso com com comunicado oficial então talvez isso leve até melhorias melhorias de governança da opinião certo mas mas é isso o fundo na realidade é que a gente não sabe o que aconteceu. O Board, o Conselho de Administração da OpenAI, não soube criar essa justificativa ou esses documentos que justificassem o porquê da demissão do Senal, mas tudo que a gente ouve são especulações. Poderia ter sido os investimentos que ele faz em paralela ao PNAI, que a gente sabe que ele tem outros investimentos e outros interesses comerciais ligados à inteligência artificial, mas que não ficam debaixo do guarda-chuva da PNAI. Tem essa questão que o Thiago colocou da... Hoje você tem, na verdade, no Vário do Surício, uma divisão entre dois grandes grupos, os que acham que a tecnologia tem que acelerar o máximo possível e que você tem que lançar os produtos e a tecnologia o quanto antes e o pessoal não se enganam, que não se enganam, que não se enganam, que não se enganam, que não se enganam, que não se enganam, que não se enganam, que não se enganam, que não se enganam, que não se enganam, que não se enganam, que não se enganam, que não se enganam, que não se enganam, que não se enganam, que não se enganam, que não se enganam, que não se enganam, que não se enganam, que não se enganam, que não se enganam, que não se enganam, que não se enganam, que não se enganam, que não se enganam, que não se enganam, que não se enganam, que não se enganam, que não se enganam, que não se enganam, que não se enganam, que não se enganam, que não se enganam, que não se enganam, que não se enganam, que não se enganam, que não se enganam, que não se enganam, que não se enganam, que não se enganam, que não se enganam, que não se enganam, que não se enganam, que não se enganam, que não se enganam, que não se enganam, que não se enganam, que não se enganam, que não se enganam, que não se enganam, que não se enganam, que não se enganam, que não se enganam, que não se enganam, que não se enganam, que não se enganam, que não se enganam, que não se enganam, que não se enganam, que não se enganam, que não teoria é isso, que o Sanautumann está mais na parte de lançar produto e desenvolver a tecnologia o mais rápido possível, enquanto existe esse outro grupo que talvez pregue uma divulgação, um lançamento de produtos mais espaçada com o tempo de termos as proteções necessárias. O fundo é que a gente não sabe e possivelmente não acabou aqui, mas vamos ver as cenas dos próximos capítulos. E falando em cenas dos próximos capítulos, Guilherme, se a gente pudesse projetar a primeira metade do ano que vem, e o que a gente teria como principais tendências, amadurecendo ainda mais ou surgindo nesse período e quais seriam os players que melhor capturariam essas tendências na sua opinião. Legal, é sempre difícil fazer previsões especialmente sobre o futuro né então mas vamos lá vou fazer o meu melhor, o como que eu estou vendo o cenário hoje, tá? Historicamente, toda vez que você teve uma mudança de tecnologia, principalmente, a gente viu isso com o cloud, a gente viu isso com o internet, com o smartphone, você tem certos ciclos. Então, a primeira tecnologia, a primeira, vamos dizer, a primeira parte de uma mudança de plataforma, você vê a infraestrutura se desenvolvendo e ganhando muito mercado. Seria o caso dos semiconductores, como foram os smartphones lá atrás. É, de fato, o aparelho que você precisa para fazer com que aquilo aconteça. No caso da inteligência artificial, claramente foi a Nvidia, que foi a grande vencedora esse ano. Nós vemos aí o crescimento da infraestrutura dos data centers da Nvidia voltados para a AI., um segundo passo, você começa a ter a criação de serviços em cima disso. Você começa a ver, de fato, as pessoas criando aplicações. Então, a gente sai da camada da infraestrutura e começa a passar na camada das aplicações, que são as pessoas, os desenvolvedores e as empresas. a soluções úteis para todo mundo que todo mundo consumidores as empresas adoram e aí o negócio explode e aí a gente vê todas as evoluções que a gente viu nos últimos tempos. Então fazendo um paralelo aqui, primeiro a Apple vendeu muitos smartphones e depois a gente viu os aplicativos que todo mundo usa sendo criados, seja um Instagram, seja Uber, empresas de muitos bilhões de dólares de receita e valor de mercado. Isso é um ciclo que aconteceu historicamente, sempre acontece, a infraestrutura depois da aplicação. Então, o que eu vejo no ano que vem vai ser o ano das aplicações de inteligência artificial. Em 2023 foi ano da infraestrutura, em 2024 a gente vai ver as aplicações mesmo entrando em produção e ganhando adoção. E falando especificadamente de algumas, o copiloto da microsoft que estão que tá sendo testado aí por várias empresas agora na realidade está disponível para todo mundo começou em novembro né começou no começo desse mês então tá super recente a gente acha que o que o copiloto vai ter uma doção muito grande a gente gente aposta bastante nisso, então o Microsoft acho que é um excelente nome e além do copiloto ela também se beneficia na parte de cloud já que as empresas que querem ter seus modelos proprietários usam a infraestrutura que você tem no cloud da Microsoft. Você tem, em produção, a gente provavelmente em outras empresas de software a gente deve ver isso. Um outro setor que eu estou bastante de olho é Cyber Segurança, porque ao mesmo tempo que você utiliza essas ferramentas para o bem, para aplicações como o copilot, elas também podem ser usadas para o mal, para os ataques cibernéticos. Então, e cyber segurança é um mercado que a gente agora está vendo nas primeiras aplicações. A própria Microsoft tem um copilot para segurança, a Paulo Alto, que é uma grande empresa de cyber segurança, também muito interessante estar cada vez colocando mais isso, a CrowdStrike também, uma outra empresa, também tem o seu assistente ali de cyber segurança. Então, eu acho que a gente vai perceber que vai ser necessário mais um ciclo de investimento em cyber segurança para você justamente conseguir proteger esses modelos e proteger do mau uso, né? Porque como a gente está falando, se esses modelos de fato são tão poderosos como você acredita, a gente precisa protegê-los bem. Muito bom. Eu descobriu bastante coisa aqui, mas para fechar, deixando aquele qual que a gente sempre deixa, Thiago, quais desses nomes que a gente comentou ao longo de toda a conversa seriam as suas top picks aí no universo de tecnologia? Legal, a gente é tudo muito dinâmico, mas a gente segue bastante positivo com o Amazon, é a nossa top pick aqui da nossa cobertura oficial, né hardcovered, que são aí as Magnificent 7, todas menos Tesla a gente cobre. E a Amazon é a nossa top pick, acho que a empresa que está aí com até o Amaral comentou é uma empresa que está entregando muito lá de custos, acho que está ainda no início, acho que tem mais dois trimestres ou mais de entregas importantes em margens. É uma melhoria na toda a eficiência logística da companhia bastante clara com a mudança de modelo para a regionalização, acho que tem espaço ainda para melhoria de eficiência de estoques e entre outras coisas que trazem ainda mais oportunidades de melhora desses números. Acho que na questão de nuvem bem importante, esse último resultado é um resultado que trouxe uma impressão de que tem mais chance do pior ter ficado para trás em termos de desacelerações, que é algo que a AWS no vem da Amazon vem desacelerando desde o 4.21. Então essa aceleração é bem importante até para a própria recomposição de margens da empresa. Então a gente segue positivo, a gente vê um upside bastante grande para Amazon para o ano que vem. E tem outros papéis que a gente segue gostando, a gente gosta ainda de meta, apesar de tudo que subiu, a gente virou a mão para compra nos abaixo 100 dólares, para estar a 340, isso tem 1 ano, mas a gente segue ainda positivo, acho que ainda tem mais uma pernada de revisões para cima, a gente está vendo um benefício também importante dos players chineses de commerce que estão anunciando bastante dentro da meta. Isso também está sendo um driver dos resultados. A própria Microsoft não é uma empresa barata, mas no longo prazo a gente gosta bastante. E a gente comentou o dia em vídeo. Esses quatro são os papéis que a gente gosta. Eu diria que se tivesse que escolher um aí com a arma na cabeça aqui, qualquer o papel que você escolheria, acho que a Amazon seria o nosso principal cavalo aí, já até falando de 2024, já estamos perto já o principal cavalo aí pro ano que vem. É uma bacana que apesar de toda essa discussão e esse vanguardismo de Nvidia em relação ao tema principal em tecnologia, se aposta na Amazon como cavalo, o principal. Acho que isso pensando muito nos próximos 12 meses Serrano. Assim acho que longo prazo o Microsoft e Nvidia são excelentes excelentes empresas excelentes empresas e vão e eu acho que é um pouco a cabeça da gente aqui é que são empresas que se tiverem fraqueza por qualquer motivo caiu a Microsoft porque de novo deu um embrol com o PNA. Provavelmente vai ser uma oportunidade de comprar mais no papel do que você vender a sua posição. Isso, mas assim olhando para próximos 12 meses, onde a gente, né, na nossa profissão aqui, principalmente do seu site, a gente acaba tendo que esse mandato de olhar aí 12 meses, acho que aqui tem um upside mais claro para a gente, é, dessas nesse período da Amazon? Perfeito, acho que a gente conseguiu cumprir bem a pauta, queria novamente agradecer o Tiago e o Guilherme por essa participação, por essa aula aqui. Valeu! e', metadata={'source': '../data/videos/AI e a corrida da tecnologia.m4a'})"
      ]
     },
     "execution_count": 8,
     "metadata": {},
     "output_type": "execute_result"
    }
   ],
   "source": [
    "# Carregar os documentos de volta para o formato LangChain Document\n",
    "loaded_docs = load_docs_from_csv(csv_file_path)\n",
    "loaded_docs[0]"
   ]
  },
  {
   "cell_type": "code",
   "execution_count": null,
   "metadata": {},
   "outputs": [],
   "source": []
  },
  {
   "cell_type": "code",
   "execution_count": null,
   "metadata": {},
   "outputs": [],
   "source": [
    "# chat https://python.langchain.com/docs/integrations/document_loaders/youtube_audio/"
   ]
  }
 ],
 "metadata": {
  "kernelspec": {
   "display_name": "Python 3",
   "language": "python",
   "name": "python3"
  },
  "language_info": {
   "codemirror_mode": {
    "name": "ipython",
    "version": 3
   },
   "file_extension": ".py",
   "mimetype": "text/x-python",
   "name": "python",
   "nbconvert_exporter": "python",
   "pygments_lexer": "ipython3",
   "version": "3.11.4"
  }
 },
 "nbformat": 4,
 "nbformat_minor": 2
}
