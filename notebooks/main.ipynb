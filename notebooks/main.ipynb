{
 "cells": [
  {
   "cell_type": "markdown",
   "metadata": {},
   "source": [
    "# Links"
   ]
  },
  {
   "cell_type": "code",
   "execution_count": 27,
   "metadata": {},
   "outputs": [
    {
     "name": "stderr",
     "output_type": "stream",
     "text": [
      "100%|██████████| 20/20 [00:26<00:00,  1.31s/it]"
     ]
    },
    {
     "name": "stdout",
     "output_type": "stream",
     "text": [
      "Nome da Playlist: Itaú Views | 5ª Temporada\n"
     ]
    },
    {
     "name": "stderr",
     "output_type": "stream",
     "text": [
      "\n"
     ]
    },
    {
     "data": {
      "text/html": [
       "<div>\n",
       "<style scoped>\n",
       "    .dataframe tbody tr th:only-of-type {\n",
       "        vertical-align: middle;\n",
       "    }\n",
       "\n",
       "    .dataframe tbody tr th {\n",
       "        vertical-align: top;\n",
       "    }\n",
       "\n",
       "    .dataframe thead th {\n",
       "        text-align: right;\n",
       "    }\n",
       "</style>\n",
       "<table border=\"1\" class=\"dataframe\">\n",
       "  <thead>\n",
       "    <tr style=\"text-align: right;\">\n",
       "      <th></th>\n",
       "      <th>titulo</th>\n",
       "      <th>url</th>\n",
       "      <th>duração</th>\n",
       "      <th>visualizações</th>\n",
       "      <th>avaliação</th>\n",
       "      <th>autor</th>\n",
       "      <th>descrição</th>\n",
       "      <th>data_publicação</th>\n",
       "      <th>curtidas</th>\n",
       "      <th>keywords</th>\n",
       "      <th>número_curtidas</th>\n",
       "      <th>número_descurtidas</th>\n",
       "    </tr>\n",
       "  </thead>\n",
       "  <tbody>\n",
       "    <tr>\n",
       "      <th>0</th>\n",
       "      <td>Privatização da Sabesp: o que esperar pela fre...</td>\n",
       "      <td>https://youtube.com/watch?v=nlpEgrjDC-8</td>\n",
       "      <td>1941</td>\n",
       "      <td>356</td>\n",
       "      <td>None</td>\n",
       "      <td>Itaú Views | 5ª Temporada</td>\n",
       "      <td>None</td>\n",
       "      <td>2023-12-18</td>\n",
       "      <td>None</td>\n",
       "      <td>[]</td>\n",
       "      <td>None</td>\n",
       "      <td>None</td>\n",
       "    </tr>\n",
       "    <tr>\n",
       "      <th>1</th>\n",
       "      <td>Qual o melhor trade com renda fixa?</td>\n",
       "      <td>https://youtube.com/watch?v=8nxRcMYud8g</td>\n",
       "      <td>1769</td>\n",
       "      <td>621</td>\n",
       "      <td>None</td>\n",
       "      <td>Itaú Views | 5ª Temporada</td>\n",
       "      <td>None</td>\n",
       "      <td>2023-12-11</td>\n",
       "      <td>None</td>\n",
       "      <td>[]</td>\n",
       "      <td>None</td>\n",
       "      <td>None</td>\n",
       "    </tr>\n",
       "    <tr>\n",
       "      <th>2</th>\n",
       "      <td>Um raio-X da China</td>\n",
       "      <td>https://youtube.com/watch?v=Wp5mBfznTyk</td>\n",
       "      <td>1299</td>\n",
       "      <td>402</td>\n",
       "      <td>None</td>\n",
       "      <td>Itaú Views | 5ª Temporada</td>\n",
       "      <td>None</td>\n",
       "      <td>2023-12-04</td>\n",
       "      <td>None</td>\n",
       "      <td>[]</td>\n",
       "      <td>None</td>\n",
       "      <td>None</td>\n",
       "    </tr>\n",
       "    <tr>\n",
       "      <th>3</th>\n",
       "      <td>AI e a corrida da tecnologia</td>\n",
       "      <td>https://youtube.com/watch?v=Kr9z9GofAZw</td>\n",
       "      <td>2040</td>\n",
       "      <td>246</td>\n",
       "      <td>None</td>\n",
       "      <td>Itaú Views | 5ª Temporada</td>\n",
       "      <td>None</td>\n",
       "      <td>2023-11-27</td>\n",
       "      <td>None</td>\n",
       "      <td>[]</td>\n",
       "      <td>None</td>\n",
       "      <td>None</td>\n",
       "    </tr>\n",
       "    <tr>\n",
       "      <th>4</th>\n",
       "      <td>Ibovespa em 145 mil pontos</td>\n",
       "      <td>https://youtube.com/watch?v=bq5Q_Fjd8Ms</td>\n",
       "      <td>1653</td>\n",
       "      <td>617</td>\n",
       "      <td>None</td>\n",
       "      <td>Itaú Views | 5ª Temporada</td>\n",
       "      <td>None</td>\n",
       "      <td>2023-11-20</td>\n",
       "      <td>None</td>\n",
       "      <td>[]</td>\n",
       "      <td>None</td>\n",
       "      <td>None</td>\n",
       "    </tr>\n",
       "  </tbody>\n",
       "</table>\n",
       "</div>"
      ],
      "text/plain": [
       "                                              titulo  \\\n",
       "0  Privatização da Sabesp: o que esperar pela fre...   \n",
       "1                Qual o melhor trade com renda fixa?   \n",
       "2                                 Um raio-X da China   \n",
       "3                       AI e a corrida da tecnologia   \n",
       "4                         Ibovespa em 145 mil pontos   \n",
       "\n",
       "                                       url  duração  visualizações avaliação  \\\n",
       "0  https://youtube.com/watch?v=nlpEgrjDC-8     1941            356      None   \n",
       "1  https://youtube.com/watch?v=8nxRcMYud8g     1769            621      None   \n",
       "2  https://youtube.com/watch?v=Wp5mBfznTyk     1299            402      None   \n",
       "3  https://youtube.com/watch?v=Kr9z9GofAZw     2040            246      None   \n",
       "4  https://youtube.com/watch?v=bq5Q_Fjd8Ms     1653            617      None   \n",
       "\n",
       "                       autor descrição data_publicação curtidas keywords  \\\n",
       "0  Itaú Views | 5ª Temporada      None      2023-12-18     None       []   \n",
       "1  Itaú Views | 5ª Temporada      None      2023-12-11     None       []   \n",
       "2  Itaú Views | 5ª Temporada      None      2023-12-04     None       []   \n",
       "3  Itaú Views | 5ª Temporada      None      2023-11-27     None       []   \n",
       "4  Itaú Views | 5ª Temporada      None      2023-11-20     None       []   \n",
       "\n",
       "  número_curtidas número_descurtidas  \n",
       "0            None               None  \n",
       "1            None               None  \n",
       "2            None               None  \n",
       "3            None               None  \n",
       "4            None               None  "
      ]
     },
     "execution_count": 27,
     "metadata": {},
     "output_type": "execute_result"
    }
   ],
   "source": [
    "import pandas as pd\n",
    "import os\n",
    "from utils.youtube_extractor import extrair_links_playlist  # Ajuste conforme o caminho do seu módulo\n",
    "\n",
    "# URL da playlist do YouTube\n",
    "url_playlist = \"https://www.youtube.com/playlist?list=PLcwPvhFHJ_F83aRklVj8vc6f4zIZafMKn\"\n",
    "\n",
    "# Obter nome da playlist e informações dos vídeos\n",
    "nome_playlist, videos_info = extrair_links_playlist(url_playlist)\n",
    "\n",
    "# Converter a lista de dicionários em DataFrame\n",
    "videos_df = pd.DataFrame(videos_info)\n",
    "\n",
    "# Exibindo os resultados\n",
    "print(\"Nome da Playlist:\", nome_playlist)\n",
    "videos_df.head()"
   ]
  },
  {
   "cell_type": "code",
   "execution_count": 33,
   "metadata": {},
   "outputs": [],
   "source": [
    "# Salvar links\n",
    "videos_df.to_csv(os.path.join(\"../data/links/\",f\"links_{nome_playlist}.csv\"), index=False)"
   ]
  },
  {
   "cell_type": "markdown",
   "metadata": {},
   "source": [
    "# Video"
   ]
  },
  {
   "cell_type": "code",
   "execution_count": 1,
   "metadata": {},
   "outputs": [
    {
     "name": "stdout",
     "output_type": "stream",
     "text": [
      "[youtube] Extracting URL: https://www.youtube.com/watch?v=my-79yTtI5s\n",
      "[youtube] my-79yTtI5s: Downloading webpage\n",
      "[youtube] my-79yTtI5s: Downloading ios player API JSON\n",
      "[youtube] my-79yTtI5s: Downloading android player API JSON\n"
     ]
    },
    {
     "name": "stderr",
     "output_type": "stream",
     "text": [
      "WARNING: [youtube] Skipping player responses from android clients (got player responses for video \"aQvGIIdgFDM\" instead of \"my-79yTtI5s\")\n"
     ]
    },
    {
     "name": "stdout",
     "output_type": "stream",
     "text": [
      "[youtube] my-79yTtI5s: Downloading player 8fc6998a\n",
      "[youtube] my-79yTtI5s: Downloading m3u8 information\n",
      "[info] my-79yTtI5s: Downloading 1 format(s): 140\n",
      "[download] Destination: docs/youtube//El Niño： Impactos e Oportunidades para os investidores.m4a\n",
      "[download] 100% of   11.69MiB in 00:00:05 at 2.20MiB/s     \n",
      "[FixupM4a] Correcting container of \"docs/youtube//El Niño： Impactos e Oportunidades para os investidores.m4a\"\n",
      "[ExtractAudio] Not converting audio docs/youtube//El Niño： Impactos e Oportunidades para os investidores.m4a; file is already in target format m4a\n",
      "Transcribing part 1!\n"
     ]
    }
   ],
   "source": [
    "from langchain.document_loaders.generic import GenericLoader\n",
    "from langchain.document_loaders.parsers import OpenAIWhisperParser\n",
    "from langchain.document_loaders.blob_loaders.youtube_audio import YoutubeAudioLoader\n",
    "url=\"https://www.youtube.com/watch?v=my-79yTtI5s\"\n",
    "save_dir=\"docs/youtube/\"\n",
    "loader = GenericLoader(\n",
    "    YoutubeAudioLoader([url],save_dir),\n",
    "    OpenAIWhisperParser()\n",
    ")\n",
    "docs = loader.load()"
   ]
  },
  {
   "cell_type": "code",
   "execution_count": 2,
   "metadata": {},
   "outputs": [
    {
     "data": {
      "text/plain": [
       "'Oi, pessoal, aqui quem fala é Gabriela Bonzodas e esse é mais um episódio do podcast Estão Ouvidos. Antes de começar, queria lembrar vocês que os nossos episódios estão disponíveis também em vídeo no YouTube e que nós estamos marcando presença no Instagram e no Telegram, onde vocês encontram análises exclusivas. Essa semana nós vamos falar dos efeitos que o fenômeno climático El Niño tem em determinadas culturas aqui do agronegócio e como isso pode se desdobrar em impactos para as empresas da no'"
      ]
     },
     "execution_count": 2,
     "metadata": {},
     "output_type": "execute_result"
    }
   ],
   "source": [
    "docs[0].page_content[0:500]"
   ]
  },
  {
   "cell_type": "code",
   "execution_count": 3,
   "metadata": {},
   "outputs": [],
   "source": [
    "from langchain.document_loaders.blob_loaders.youtube_audio import YoutubeAudioLoader"
   ]
  },
  {
   "cell_type": "code",
   "execution_count": 4,
   "metadata": {},
   "outputs": [],
   "source": [
    "# from langchain_community.document_loaders.blob_loaders.youtube_audio import (\n",
    "#     YoutubeAudioLoader,\n",
    "# )\n",
    "from langchain_community.document_loaders.generic import GenericLoader\n",
    "from langchain_community.document_loaders.parsers import (\n",
    "    OpenAIWhisperParser,\n",
    ")\n",
    "from langchain.document_loaders.parsers.audio import OpenAIWhisperParserLocal"
   ]
  },
  {
   "cell_type": "code",
   "execution_count": 5,
   "metadata": {},
   "outputs": [],
   "source": [
    "# set a flag to switch between local and remote parsing\n",
    "# change this to True if you want to use local parsing\n",
    "local = True"
   ]
  },
  {
   "cell_type": "code",
   "execution_count": 13,
   "metadata": {},
   "outputs": [],
   "source": [
    "import pandas as pd\n",
    "videos_df = pd.read_csv(\"../data/links/links_Itaú Views | 5ª Temporada.csv\")\n",
    "url_menor_video = videos_df[videos_df['duração'] == videos_df['duração'].min()].url.values[0]"
   ]
  },
  {
   "cell_type": "code",
   "execution_count": 51,
   "metadata": {},
   "outputs": [
    {
     "name": "stderr",
     "output_type": "stream",
     "text": [
      "Special tokens have been added in the vocabulary, make sure the associated word embeddings are fine-tuned or trained.\n"
     ]
    },
    {
     "data": {
      "text/plain": [
       "[(1, 50267), (2, 50358), (3, 50363)]"
      ]
     },
     "execution_count": 51,
     "metadata": {},
     "output_type": "execute_result"
    }
   ],
   "source": [
    "from transformers import WhisperProcessor\n",
    "processor = WhisperProcessor.from_pretrained(\"openai/whisper-small\")\n",
    "processor.get_decoder_prompt_ids(language=\"portuguese\", task=\"translate\")"
   ]
  },
  {
   "cell_type": "code",
   "execution_count": 52,
   "metadata": {},
   "outputs": [
    {
     "name": "stdout",
     "output_type": "stream",
     "text": [
      "Using the following model:  openai/whisper-small\n"
     ]
    },
    {
     "name": "stderr",
     "output_type": "stream",
     "text": [
      "Special tokens have been added in the vocabulary, make sure the associated word embeddings are fine-tuned or trained.\n"
     ]
    },
    {
     "name": "stdout",
     "output_type": "stream",
     "text": [
      "[youtube] Extracting URL: https://youtube.com/watch?v=nlpEgrjDC-8\n",
      "[youtube] nlpEgrjDC-8: Downloading webpage\n",
      "[youtube] nlpEgrjDC-8: Downloading ios player API JSON\n",
      "[youtube] nlpEgrjDC-8: Downloading android player API JSON\n"
     ]
    },
    {
     "name": "stderr",
     "output_type": "stream",
     "text": [
      "WARNING: [youtube] Skipping player responses from android clients (got player responses for video \"aQvGIIdgFDM\" instead of \"nlpEgrjDC-8\")\n"
     ]
    },
    {
     "name": "stdout",
     "output_type": "stream",
     "text": [
      "[youtube] nlpEgrjDC-8: Downloading m3u8 information\n",
      "[info] nlpEgrjDC-8: Downloading 1 format(s): 140\n",
      "[download] ../data/videos//Privatização da Sabesp： o que esperar pela frente？.m4a has already been downloaded\n",
      "[download] 100% of   29.94MiB\n",
      "[ExtractAudio] Not converting audio ../data/videos//Privatização da Sabesp： o que esperar pela frente？.m4a; file is already in target format m4a\n",
      "[youtube] Extracting URL: https://youtube.com/watch?v=8nxRcMYud8g\n",
      "[youtube] 8nxRcMYud8g: Downloading webpage\n",
      "[youtube] 8nxRcMYud8g: Downloading ios player API JSON\n",
      "[youtube] 8nxRcMYud8g: Downloading android player API JSON\n"
     ]
    },
    {
     "name": "stderr",
     "output_type": "stream",
     "text": [
      "WARNING: [youtube] Skipping player responses from android clients (got player responses for video \"aQvGIIdgFDM\" instead of \"8nxRcMYud8g\")\n"
     ]
    },
    {
     "name": "stdout",
     "output_type": "stream",
     "text": [
      "[youtube] 8nxRcMYud8g: Downloading m3u8 information\n",
      "[info] 8nxRcMYud8g: Downloading 1 format(s): 140\n",
      "[download] ../data/videos//Qual o melhor trade com renda fixa？.m4a has already been downloaded\n",
      "[download] 100% of   27.29MiB\n",
      "[ExtractAudio] Not converting audio ../data/videos//Qual o melhor trade com renda fixa？.m4a; file is already in target format m4a\n",
      "[youtube] Extracting URL: https://youtube.com/watch?v=Wp5mBfznTyk\n",
      "[youtube] Wp5mBfznTyk: Downloading webpage\n",
      "[youtube] Wp5mBfznTyk: Downloading ios player API JSON\n",
      "[youtube] Wp5mBfznTyk: Downloading android player API JSON\n"
     ]
    },
    {
     "name": "stderr",
     "output_type": "stream",
     "text": [
      "WARNING: [youtube] Skipping player responses from android clients (got player responses for video \"aQvGIIdgFDM\" instead of \"Wp5mBfznTyk\")\n"
     ]
    },
    {
     "name": "stdout",
     "output_type": "stream",
     "text": [
      "[youtube] Wp5mBfznTyk: Downloading m3u8 information\n",
      "[info] Wp5mBfznTyk: Downloading 1 format(s): 140\n",
      "[download] ../data/videos//Um raio-X da China.m4a has already been downloaded\n",
      "[download] 100% of   20.04MiB\n",
      "[ExtractAudio] Not converting audio ../data/videos//Um raio-X da China.m4a; file is already in target format m4a\n",
      "[youtube] Extracting URL: https://youtube.com/watch?v=Kr9z9GofAZw\n",
      "[youtube] Kr9z9GofAZw: Downloading webpage\n",
      "[youtube] Kr9z9GofAZw: Downloading ios player API JSON\n",
      "[youtube] Kr9z9GofAZw: Downloading android player API JSON\n"
     ]
    },
    {
     "name": "stderr",
     "output_type": "stream",
     "text": [
      "WARNING: [youtube] Skipping player responses from android clients (got player responses for video \"aQvGIIdgFDM\" instead of \"Kr9z9GofAZw\")\n"
     ]
    },
    {
     "name": "stdout",
     "output_type": "stream",
     "text": [
      "[youtube] Kr9z9GofAZw: Downloading m3u8 information\n",
      "[info] Kr9z9GofAZw: Downloading 1 format(s): 140\n",
      "[download] ../data/videos//AI e a corrida da tecnologia.m4a has already been downloaded\n",
      "[download] 100% of   31.46MiB\n",
      "[ExtractAudio] Not converting audio ../data/videos//AI e a corrida da tecnologia.m4a; file is already in target format m4a\n",
      "[youtube] Extracting URL: https://youtube.com/watch?v=bq5Q_Fjd8Ms\n",
      "[youtube] bq5Q_Fjd8Ms: Downloading webpage\n",
      "[youtube] bq5Q_Fjd8Ms: Downloading ios player API JSON\n",
      "[youtube] bq5Q_Fjd8Ms: Downloading android player API JSON\n"
     ]
    },
    {
     "name": "stderr",
     "output_type": "stream",
     "text": [
      "WARNING: [youtube] Skipping player responses from android clients (got player responses for video \"aQvGIIdgFDM\" instead of \"bq5Q_Fjd8Ms\")\n"
     ]
    },
    {
     "name": "stdout",
     "output_type": "stream",
     "text": [
      "[youtube] bq5Q_Fjd8Ms: Downloading m3u8 information\n",
      "[info] bq5Q_Fjd8Ms: Downloading 1 format(s): 140\n",
      "[download] ../data/videos//Ibovespa em 145 mil pontos.m4a has already been downloaded\n",
      "[download] 100% of   25.50MiB\n",
      "[ExtractAudio] Not converting audio ../data/videos//Ibovespa em 145 mil pontos.m4a; file is already in target format m4a\n",
      "[youtube] Extracting URL: https://youtube.com/watch?v=eGzKlqydTPk\n",
      "[youtube] eGzKlqydTPk: Downloading webpage\n",
      "[youtube] eGzKlqydTPk: Downloading ios player API JSON\n",
      "[youtube] eGzKlqydTPk: Downloading android player API JSON\n"
     ]
    },
    {
     "name": "stderr",
     "output_type": "stream",
     "text": [
      "WARNING: [youtube] Skipping player responses from android clients (got player responses for video \"aQvGIIdgFDM\" instead of \"eGzKlqydTPk\")\n"
     ]
    },
    {
     "name": "stdout",
     "output_type": "stream",
     "text": [
      "[youtube] eGzKlqydTPk: Downloading m3u8 information\n",
      "[info] eGzKlqydTPk: Downloading 1 format(s): 140\n",
      "[download] ../data/videos//Especial Macro Vision： um olhar sobre a bolsa brasileira.m4a has already been downloaded\n",
      "[download] 100% of   23.40MiB\n",
      "[ExtractAudio] Not converting audio ../data/videos//Especial Macro Vision： um olhar sobre a bolsa brasileira.m4a; file is already in target format m4a\n",
      "[youtube] Extracting URL: https://youtube.com/watch?v=EVmYTe6RkX8\n",
      "[youtube] EVmYTe6RkX8: Downloading webpage\n",
      "[youtube] EVmYTe6RkX8: Downloading ios player API JSON\n",
      "[youtube] EVmYTe6RkX8: Downloading android player API JSON\n"
     ]
    },
    {
     "name": "stderr",
     "output_type": "stream",
     "text": [
      "WARNING: [youtube] Skipping player responses from android clients (got player responses for video \"aQvGIIdgFDM\" instead of \"EVmYTe6RkX8\")\n"
     ]
    },
    {
     "name": "stdout",
     "output_type": "stream",
     "text": [
      "[youtube] EVmYTe6RkX8: Downloading m3u8 information\n",
      "[info] EVmYTe6RkX8: Downloading 1 format(s): 140\n",
      "[download] ../data/videos//Situações Especiais： entenda as oportunidades nessa classe de ativos.m4a has already been downloaded\n",
      "[download] 100% of   37.66MiB\n",
      "[ExtractAudio] Not converting audio ../data/videos//Situações Especiais： entenda as oportunidades nessa classe de ativos.m4a; file is already in target format m4a\n",
      "[youtube] Extracting URL: https://youtube.com/watch?v=KPAk3nzYQgo\n",
      "[youtube] KPAk3nzYQgo: Downloading webpage\n",
      "[youtube] KPAk3nzYQgo: Downloading ios player API JSON\n",
      "[youtube] KPAk3nzYQgo: Downloading android player API JSON\n"
     ]
    },
    {
     "name": "stderr",
     "output_type": "stream",
     "text": [
      "WARNING: [youtube] Skipping player responses from android clients (got player responses for video \"aQvGIIdgFDM\" instead of \"KPAk3nzYQgo\")\n"
     ]
    },
    {
     "name": "stdout",
     "output_type": "stream",
     "text": [
      "[youtube] KPAk3nzYQgo: Downloading m3u8 information\n",
      "[info] KPAk3nzYQgo: Downloading 1 format(s): 140\n",
      "[download] ../data/videos//Tensões globais e os efeitos para o Brasil.m4a has already been downloaded\n",
      "[download] 100% of   33.11MiB\n",
      "[ExtractAudio] Not converting audio ../data/videos//Tensões globais e os efeitos para o Brasil.m4a; file is already in target format m4a\n",
      "[youtube] Extracting URL: https://youtube.com/watch?v=ouWlwXPWnNc\n",
      "[youtube] ouWlwXPWnNc: Downloading webpage\n",
      "[youtube] ouWlwXPWnNc: Downloading ios player API JSON\n",
      "[youtube] ouWlwXPWnNc: Downloading android player API JSON\n"
     ]
    },
    {
     "name": "stderr",
     "output_type": "stream",
     "text": [
      "WARNING: [youtube] Skipping player responses from android clients (got player responses for video \"aQvGIIdgFDM\" instead of \"ouWlwXPWnNc\")\n"
     ]
    },
    {
     "name": "stdout",
     "output_type": "stream",
     "text": [
      "[youtube] ouWlwXPWnNc: Downloading m3u8 information\n",
      "[info] ouWlwXPWnNc: Downloading 1 format(s): 140\n",
      "[download] ../data/videos//Os IPOS vão voltar？.m4a has already been downloaded\n",
      "[download] 100% of   20.21MiB\n",
      "[ExtractAudio] Not converting audio ../data/videos//Os IPOS vão voltar？.m4a; file is already in target format m4a\n",
      "[youtube] Extracting URL: https://youtube.com/watch?v=OTWowpP5NfU\n",
      "[youtube] OTWowpP5NfU: Downloading webpage\n",
      "[youtube] OTWowpP5NfU: Downloading ios player API JSON\n",
      "[youtube] OTWowpP5NfU: Downloading android player API JSON\n"
     ]
    },
    {
     "name": "stderr",
     "output_type": "stream",
     "text": [
      "WARNING: [youtube] Skipping player responses from android clients (got player responses for video \"aQvGIIdgFDM\" instead of \"OTWowpP5NfU\")\n"
     ]
    },
    {
     "name": "stdout",
     "output_type": "stream",
     "text": [
      "[youtube] OTWowpP5NfU: Downloading m3u8 information\n",
      "[info] OTWowpP5NfU: Downloading 1 format(s): 140\n",
      "[download] ../data/videos//Juros altos, volatilidade e para onde vai a bolsa.m4a has already been downloaded\n",
      "[download] 100% of   42.80MiB\n",
      "[ExtractAudio] Not converting audio ../data/videos//Juros altos, volatilidade e para onde vai a bolsa.m4a; file is already in target format m4a\n",
      "[youtube] Extracting URL: https://youtube.com/watch?v=my-79yTtI5s\n",
      "[youtube] my-79yTtI5s: Downloading webpage\n",
      "[youtube] my-79yTtI5s: Downloading ios player API JSON\n",
      "[youtube] my-79yTtI5s: Downloading android player API JSON\n"
     ]
    },
    {
     "name": "stderr",
     "output_type": "stream",
     "text": [
      "WARNING: [youtube] Skipping player responses from android clients (got player responses for video \"aQvGIIdgFDM\" instead of \"my-79yTtI5s\")\n"
     ]
    },
    {
     "name": "stdout",
     "output_type": "stream",
     "text": [
      "[youtube] my-79yTtI5s: Downloading m3u8 information\n",
      "[info] my-79yTtI5s: Downloading 1 format(s): 140\n",
      "[download] ../data/videos//El Niño： Impactos e Oportunidades para os investidores.m4a has already been downloaded\n",
      "[download] 100% of   11.68MiB\n",
      "[ExtractAudio] Not converting audio ../data/videos//El Niño： Impactos e Oportunidades para os investidores.m4a; file is already in target format m4a\n",
      "[youtube] Extracting URL: https://youtube.com/watch?v=MVUB564c9_g\n",
      "[youtube] MVUB564c9_g: Downloading webpage\n",
      "[youtube] MVUB564c9_g: Downloading ios player API JSON\n",
      "[youtube] MVUB564c9_g: Downloading android player API JSON\n"
     ]
    },
    {
     "name": "stderr",
     "output_type": "stream",
     "text": [
      "WARNING: [youtube] Skipping player responses from android clients (got player responses for video \"aQvGIIdgFDM\" instead of \"MVUB564c9_g\")\n"
     ]
    },
    {
     "name": "stdout",
     "output_type": "stream",
     "text": [
      "[youtube] MVUB564c9_g: Downloading m3u8 information\n",
      "[info] MVUB564c9_g: Downloading 1 format(s): 140\n",
      "[download] ../data/videos//Tech Views ｜ Future Day & Report Atlantico.m4a has already been downloaded\n",
      "[download] 100% of   18.89MiB\n",
      "[ExtractAudio] Not converting audio ../data/videos//Tech Views ｜ Future Day & Report Atlantico.m4a; file is already in target format m4a\n",
      "[youtube] Extracting URL: https://youtube.com/watch?v=eFWeRWuNZp4\n",
      "[youtube] eFWeRWuNZp4: Downloading webpage\n",
      "[youtube] eFWeRWuNZp4: Downloading ios player API JSON\n",
      "[youtube] eFWeRWuNZp4: Downloading android player API JSON\n"
     ]
    },
    {
     "name": "stderr",
     "output_type": "stream",
     "text": [
      "WARNING: [youtube] Skipping player responses from android clients (got player responses for video \"aQvGIIdgFDM\" instead of \"eFWeRWuNZp4\")\n"
     ]
    },
    {
     "name": "stdout",
     "output_type": "stream",
     "text": [
      "[youtube] eFWeRWuNZp4: Downloading m3u8 information\n",
      "[info] eFWeRWuNZp4: Downloading 1 format(s): 140\n",
      "[download] ../data/videos//Buy Side & Sell Side ｜ Agro, Aço, Mineração, Papel & Celulose.m4a has already been downloaded\n",
      "[download] 100% of   29.28MiB\n",
      "[ExtractAudio] Not converting audio ../data/videos//Buy Side & Sell Side ｜ Agro, Aço, Mineração, Papel & Celulose.m4a; file is already in target format m4a\n",
      "[youtube] Extracting URL: https://youtube.com/watch?v=v_J-Ykye0NM\n",
      "[youtube] v_J-Ykye0NM: Downloading webpage\n",
      "[youtube] v_J-Ykye0NM: Downloading ios player API JSON\n",
      "[youtube] v_J-Ykye0NM: Downloading android player API JSON\n"
     ]
    },
    {
     "name": "stderr",
     "output_type": "stream",
     "text": [
      "WARNING: [youtube] Skipping player responses from android clients (got player responses for video \"aQvGIIdgFDM\" instead of \"v_J-Ykye0NM\")\n"
     ]
    },
    {
     "name": "stdout",
     "output_type": "stream",
     "text": [
      "[youtube] v_J-Ykye0NM: Downloading m3u8 information\n",
      "[info] v_J-Ykye0NM: Downloading 1 format(s): 140\n",
      "[download] ../data/videos//Buy Side & Sell Side ｜ Óleo & Gás.m4a has already been downloaded\n",
      "[download] 100% of   34.90MiB\n",
      "[ExtractAudio] Not converting audio ../data/videos//Buy Side & Sell Side ｜ Óleo & Gás.m4a; file is already in target format m4a\n",
      "[youtube] Extracting URL: https://youtube.com/watch?v=TMUJH_7GGQw\n",
      "[youtube] TMUJH_7GGQw: Downloading webpage\n",
      "[youtube] TMUJH_7GGQw: Downloading ios player API JSON\n",
      "[youtube] TMUJH_7GGQw: Downloading android player API JSON\n"
     ]
    },
    {
     "name": "stderr",
     "output_type": "stream",
     "text": [
      "WARNING: [youtube] Skipping player responses from android clients (got player responses for video \"aQvGIIdgFDM\" instead of \"TMUJH_7GGQw\")\n"
     ]
    },
    {
     "name": "stdout",
     "output_type": "stream",
     "text": [
      "[youtube] TMUJH_7GGQw: Downloading m3u8 information\n",
      "[info] TMUJH_7GGQw: Downloading 1 format(s): 140\n",
      "[download] ../data/videos//Como investir em créditos privados.m4a has already been downloaded\n",
      "[download] 100% of   33.59MiB\n",
      "[ExtractAudio] Not converting audio ../data/videos//Como investir em créditos privados.m4a; file is already in target format m4a\n",
      "[youtube] Extracting URL: https://youtube.com/watch?v=W1rxLjimvxY\n",
      "[youtube] W1rxLjimvxY: Downloading webpage\n",
      "[youtube] W1rxLjimvxY: Downloading ios player API JSON\n",
      "[youtube] W1rxLjimvxY: Downloading android player API JSON\n"
     ]
    },
    {
     "name": "stderr",
     "output_type": "stream",
     "text": [
      "WARNING: [youtube] Skipping player responses from android clients (got player responses for video \"aQvGIIdgFDM\" instead of \"W1rxLjimvxY\")\n"
     ]
    },
    {
     "name": "stdout",
     "output_type": "stream",
     "text": [
      "[youtube] W1rxLjimvxY: Downloading m3u8 information\n",
      "[info] W1rxLjimvxY: Downloading 1 format(s): 140\n",
      "[download] ../data/videos//Buy Side & Sell Side ｜ Fundos Imobiliários.m4a has already been downloaded\n",
      "[download] 100% of   23.30MiB\n",
      "[ExtractAudio] Not converting audio ../data/videos//Buy Side & Sell Side ｜ Fundos Imobiliários.m4a; file is already in target format m4a\n",
      "[youtube] Extracting URL: https://youtube.com/watch?v=yRJ5j1nS6SM\n",
      "[youtube] yRJ5j1nS6SM: Downloading webpage\n",
      "[youtube] yRJ5j1nS6SM: Downloading ios player API JSON\n",
      "[youtube] yRJ5j1nS6SM: Downloading android player API JSON\n"
     ]
    },
    {
     "name": "stderr",
     "output_type": "stream",
     "text": [
      "WARNING: [youtube] Skipping player responses from android clients (got player responses for video \"aQvGIIdgFDM\" instead of \"yRJ5j1nS6SM\")\n"
     ]
    },
    {
     "name": "stdout",
     "output_type": "stream",
     "text": [
      "[youtube] yRJ5j1nS6SM: Downloading m3u8 information\n",
      "[info] yRJ5j1nS6SM: Downloading 1 format(s): 140\n",
      "[download] ../data/videos//Juros pra baixo, bolsa pra... baixo？.m4a has already been downloaded\n",
      "[download] 100% of   28.70MiB\n",
      "[ExtractAudio] Not converting audio ../data/videos//Juros pra baixo, bolsa pra... baixo？.m4a; file is already in target format m4a\n",
      "[youtube] Extracting URL: https://youtube.com/watch?v=3vUnTO2Gmsg\n",
      "[youtube] 3vUnTO2Gmsg: Downloading webpage\n",
      "[youtube] 3vUnTO2Gmsg: Downloading ios player API JSON\n",
      "[youtube] 3vUnTO2Gmsg: Downloading android player API JSON\n"
     ]
    },
    {
     "name": "stderr",
     "output_type": "stream",
     "text": [
      "WARNING: [youtube] Skipping player responses from android clients (got player responses for video \"aQvGIIdgFDM\" instead of \"3vUnTO2Gmsg\")\n"
     ]
    },
    {
     "name": "stdout",
     "output_type": "stream",
     "text": [
      "[youtube] 3vUnTO2Gmsg: Downloading m3u8 information\n",
      "[info] 3vUnTO2Gmsg: Downloading 1 format(s): 140\n",
      "[download] ../data/videos//Orange Book： um raio-x da nossa economia.m4a has already been downloaded\n",
      "[download] 100% of   25.78MiB\n",
      "[ExtractAudio] Not converting audio ../data/videos//Orange Book： um raio-x da nossa economia.m4a; file is already in target format m4a\n",
      "[youtube] Extracting URL: https://youtube.com/watch?v=y3aSGWTeypc\n",
      "[youtube] y3aSGWTeypc: Downloading webpage\n",
      "[youtube] y3aSGWTeypc: Downloading ios player API JSON\n",
      "[youtube] y3aSGWTeypc: Downloading android player API JSON\n"
     ]
    },
    {
     "name": "stderr",
     "output_type": "stream",
     "text": [
      "WARNING: [youtube] Skipping player responses from android clients (got player responses for video \"aQvGIIdgFDM\" instead of \"y3aSGWTeypc\")\n"
     ]
    },
    {
     "name": "stdout",
     "output_type": "stream",
     "text": [
      "[youtube] y3aSGWTeypc: Downloading m3u8 information\n",
      "[info] y3aSGWTeypc: Downloading 1 format(s): 140\n",
      "[download] ../data/videos//O que esperar da política monetária no Brasil？.m4a has already been downloaded\n",
      "[download] 100% of   19.86MiB\n",
      "[ExtractAudio] Not converting audio ../data/videos//O que esperar da política monetária no Brasil？.m4a; file is already in target format m4a\n",
      "[youtube] Extracting URL: https://youtube.com/watch?v=plW9ZiMFcOM\n",
      "[youtube] plW9ZiMFcOM: Downloading webpage\n",
      "[youtube] plW9ZiMFcOM: Downloading ios player API JSON\n",
      "[youtube] plW9ZiMFcOM: Downloading android player API JSON\n"
     ]
    },
    {
     "name": "stderr",
     "output_type": "stream",
     "text": [
      "WARNING: [youtube] Skipping player responses from android clients (got player responses for video \"aQvGIIdgFDM\" instead of \"plW9ZiMFcOM\")\n"
     ]
    },
    {
     "name": "stdout",
     "output_type": "stream",
     "text": [
      "[youtube] plW9ZiMFcOM: Downloading m3u8 information\n",
      "[info] plW9ZiMFcOM: Downloading 1 format(s): 140\n",
      "[download] ../data/videos//Balanço dos Balanços 2T23.m4a has already been downloaded\n",
      "[download] 100% of   28.54MiB\n",
      "[ExtractAudio] Not converting audio ../data/videos//Balanço dos Balanços 2T23.m4a; file is already in target format m4a\n",
      "Transcribing part ../data/videos/AI e a corrida da tecnologia.m4a!\n"
     ]
    }
   ],
   "source": [
    "# Two Karpathy lecture videos\n",
    "urls = videos_df.url.values.tolist() #[url_menor_video]\n",
    "\n",
    "# Directory to save audio files\n",
    "save_dir = \"../data/videos/\"\n",
    "\n",
    "\n",
    "# Transcribe the videos to text\n",
    "if local:\n",
    "    loader = GenericLoader(\n",
    "        # exemplo \"../data/videos/Balanço dos Balanços 2T23.m4a!\" necessario passar a lingua por conta do erro: Multiple languages detected when trying to predict the most likely target language for transcription. It is currently not supported to transcribe to different languages in a single batch. Please make sure to either force a single language by passing `language='...'` or make sure all input audio is of the same language.\n",
    "        YoutubeAudioLoader(urls, save_dir), OpenAIWhisperParserLocal(chunk_length=20, # quando chunk=30, houve alguns bugs, palavras repetidas na transcrição\n",
    "                                                                     forced_decoder_ids=processor.get_decoder_prompt_ids(language=\"portuguese\", task=\"translate\")\n",
    "                                                                     )\n",
    "        \n",
    "    )\n",
    "else:\n",
    "    loader = GenericLoader(YoutubeAudioLoader(urls, save_dir), OpenAIWhisperParser())\n",
    "docs = loader.load()"
   ]
  },
  {
   "cell_type": "code",
   "execution_count": null,
   "metadata": {},
   "outputs": [],
   "source": []
  },
  {
   "cell_type": "code",
   "execution_count": null,
   "metadata": {},
   "outputs": [],
   "source": []
  },
  {
   "cell_type": "code",
   "execution_count": null,
   "metadata": {},
   "outputs": [],
   "source": []
  },
  {
   "cell_type": "code",
   "execution_count": null,
   "metadata": {},
   "outputs": [],
   "source": [
    "# chat https://python.langchain.com/docs/integrations/document_loaders/youtube_audio/"
   ]
  }
 ],
 "metadata": {
  "kernelspec": {
   "display_name": "Python 3",
   "language": "python",
   "name": "python3"
  },
  "language_info": {
   "codemirror_mode": {
    "name": "ipython",
    "version": 3
   },
   "file_extension": ".py",
   "mimetype": "text/x-python",
   "name": "python",
   "nbconvert_exporter": "python",
   "pygments_lexer": "ipython3",
   "version": "3.11.4"
  }
 },
 "nbformat": 4,
 "nbformat_minor": 2
}
